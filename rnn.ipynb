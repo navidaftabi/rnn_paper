{
 "cells": [
  {
   "cell_type": "code",
   "execution_count": 1,
   "metadata": {},
   "outputs": [],
   "source": [
    "# which attack level to add noise\n",
    "noise_type = 7\n",
    "# how much noise to add: 0.00, 0.05, 0.10, 0.20, 0.50\n",
    "noise_percent = 0.50"
   ]
  },
  {
   "cell_type": "code",
   "execution_count": 3,
   "metadata": {},
   "outputs": [],
   "source": [
    "import os\n",
    "import re\n",
    "import random\n",
    "import numpy as np\n",
    "from tqdm import tqdm\n",
    "from scipy.io import loadmat\n",
    "import matplotlib.pyplot as plt\n",
    "from pandas import DataFrame, concat\n",
    "\n",
    "import torch\n",
    "from torchinfo import summary\n",
    "from torch.utils.data import DataLoader\n",
    "\n",
    "from models.vae import VAE\n",
    "from models.rnn_trainer import RNNTrainer"
   ]
  },
  {
   "cell_type": "code",
   "execution_count": 4,
   "metadata": {},
   "outputs": [],
   "source": [
    "DATASET_PATH = os.path.join(os.getcwd(), 'data')\n",
    "# Path to the folder where the pretrained models are saved\n",
    "CHECKPOINT_PATH = os.path.join(os.getcwd(), 'checkpoints')"
   ]
  },
  {
   "cell_type": "code",
   "execution_count": 5,
   "metadata": {},
   "outputs": [],
   "source": [
    "seed = 13\n",
    "torch.manual_seed(seed)\n",
    "# torch.cuda.manual_seed(seed)\n",
    "# torch.cuda.manual_seed_all(seed)\n",
    "# torch.backends.cudnn.deterministic = True\n",
    "device = 'cuda' if torch.cuda.is_available() else 'cpu'"
   ]
  },
  {
   "cell_type": "code",
   "execution_count": 6,
   "metadata": {},
   "outputs": [],
   "source": [
    "class RNNDataset():\n",
    "    def __init__(self, x, y):\n",
    "        self.x = x\n",
    "        self.y = y\n",
    "    \n",
    "    def __len__(self):\n",
    "        return len(self.y)\n",
    "    \n",
    "    def __getitem__(self, idx):\n",
    "        return self.x[idx], self.y[idx]"
   ]
  },
  {
   "cell_type": "code",
   "execution_count": 7,
   "metadata": {},
   "outputs": [],
   "source": [
    "def series_to_supervised(data, n_in=1, n_out=1, dropnan=True):\n",
    "    n_vars = 1 if type(data) is list else data.shape[1]\n",
    "    df = DataFrame(data)\n",
    "    cols, names = list(), list()\n",
    "    # input sequence (t-n, ... t-1)\n",
    "    for i in range(n_in, 0, -1):\n",
    "        cols.append(df.shift(i))\n",
    "        names += [('var%d(t-%d)' % (j+1, i)) for j in range(n_vars)]\n",
    "    # forecast sequence (t, t+1, ... t+n)\n",
    "    for i in range(0, n_out):\n",
    "        cols.append(df.shift(-i))\n",
    "        if i == 0:\n",
    "            names += [('var%d(t)' % (j+1)) for j in range(n_vars)]\n",
    "        else:\n",
    "            names += [('var%d(t+%d)' % (j+1, i)) for j in range(n_vars)]\n",
    "    # put it all together\n",
    "    agg = concat(cols, axis=1)\n",
    "    agg.columns = names\n",
    "    # drop rows with NaN values\n",
    "    if dropnan:\n",
    "        agg.dropna(inplace=True)\n",
    "    return agg"
   ]
  },
  {
   "cell_type": "code",
   "execution_count": 8,
   "metadata": {},
   "outputs": [],
   "source": [
    "latent_dim = 118\n",
    "hidden_size = 100\n",
    "num_layers = 2\n",
    "batch_size = 16\n",
    "rnn_window = 10\n",
    "epochs = 1000\n",
    "lr = 1e-1\n",
    "scheduler = True\n",
    "es_patience = 10"
   ]
  },
  {
   "cell_type": "code",
   "execution_count": 9,
   "metadata": {},
   "outputs": [],
   "source": [
    "data_filename = 'Normal1.mat'\n",
    "data = loadmat(os.path.join(DATASET_PATH, data_filename))\n",
    "Z = data['Z']\n",
    "T = len(Z)"
   ]
  },
  {
   "cell_type": "code",
   "execution_count": 10,
   "metadata": {},
   "outputs": [
    {
     "data": {
      "text/plain": [
       "<All keys matched successfully>"
      ]
     },
     "execution_count": 10,
     "metadata": {},
     "output_type": "execute_result"
    }
   ],
   "source": [
    "vae = VAE(latent_dim).to(device)\n",
    "vae.load_state_dict(torch.load(os.path.join(CHECKPOINT_PATH, f'vae_{int(noise_percent*100)}%.pt')))"
   ]
  },
  {
   "cell_type": "code",
   "execution_count": 11,
   "metadata": {},
   "outputs": [
    {
     "name": "stderr",
     "output_type": "stream",
     "text": [
      "Reading noise data ... : 100%|██████████| 3/3 [00:00<00:00,  6.30it/s]\n"
     ]
    }
   ],
   "source": [
    "# read attack noise\n",
    "NOISE_PATH = os.path.join(DATASET_PATH, f'I{noise_type}')\n",
    "Z_noise = dict()\n",
    "for filename in tqdm(os.listdir(NOISE_PATH), desc='Reading noise data ... '):\n",
    "    fname = os.path.join(NOISE_PATH, filename)\n",
    "    data = loadmat(fname)\n",
    "    att_type = int(re.findall(r'\\d+', filename)[0])\n",
    "    Z_noise[att_type] = np.array(data['Z'])\n",
    "\n",
    "Z_noise = dict(sorted(Z_noise.items()))"
   ]
  },
  {
   "cell_type": "code",
   "execution_count": 12,
   "metadata": {},
   "outputs": [],
   "source": [
    "noise_size = int(T * noise_percent)\n",
    "norm_operation_win = 50\n",
    "# sample random times after norm_operation_win to add in Z\n",
    "noise_time = np.random.choice(list(range(norm_operation_win, T)), size=noise_size, replace=False)\n",
    "# sample attack types to sample a noise\n",
    "noise_to_add_from = np.random.choice(list(Z_noise.keys()), size=noise_size, replace=True).tolist()\n",
    "random.shuffle(noise_to_add_from)\n",
    "# randomly select noises from attack types\n",
    "noises = []\n",
    "for typ in noise_to_add_from:\n",
    "    noise_id = random.sample(range(T), 1)\n",
    "    noises.append(Z_noise[typ][noise_id])\n",
    "random.shuffle(noises)\n",
    "noises = np.concatenate(noises, axis=0)\n",
    "# add noises to original sensor data Z\n",
    "Z[noise_time,:] = noises\n",
    "Z = torch.tensor(Z, dtype=torch.float32).to(device)\n"
   ]
  },
  {
   "cell_type": "code",
   "execution_count": 13,
   "metadata": {},
   "outputs": [],
   "source": [
    "vae.eval()\n",
    "Z_enc = vae.encoder(Z)\n",
    "Z_supervised = series_to_supervised(Z_enc.cpu().detach().numpy(), n_in=rnn_window)\n",
    "Z_supervised = Z_supervised.values\n",
    "X, y = Z_supervised[:,:rnn_window * latent_dim], Z_supervised[:, rnn_window * latent_dim:]\n",
    "train_size = int(len(X) * 0.8)\n",
    "X_train, X_test = X[:train_size], X[train_size:]\n",
    "y_train, y_test = y[:train_size], y[train_size:]\n",
    "training = RNNDataset(X_train, y_train)\n",
    "test = RNNDataset(X_test, y_test)\n",
    "train_dl = DataLoader(training, batch_size=batch_size, shuffle=True)\n",
    "test_dl = DataLoader(test)"
   ]
  },
  {
   "cell_type": "code",
   "execution_count": 14,
   "metadata": {},
   "outputs": [
    {
     "name": "stdout",
     "output_type": "stream",
     "text": [
      "Device:  cuda\n"
     ]
    }
   ],
   "source": [
    "trainer = RNNTrainer(input_dim=rnn_window * latent_dim, \n",
    "                     outputdims = latent_dim,\n",
    "                     hidden_dim=hidden_size,\n",
    "                     num_layers=num_layers,\n",
    "                     lr=lr,\n",
    "                     lr_scheduler=scheduler,\n",
    "                     es_patience=es_patience,\n",
    "                     checkpoint_name=f'rnn_{int(noise_percent*100)}%.pt',\n",
    "                     seed=13)"
   ]
  },
  {
   "cell_type": "code",
   "execution_count": 15,
   "metadata": {},
   "outputs": [
    {
     "data": {
      "text/plain": [
       "==========================================================================================\n",
       "Layer (type:depth-idx)                   Output Shape              Param #\n",
       "==========================================================================================\n",
       "RNN                                      [1, 118]                  --\n",
       "├─LSTM: 1-1                              [1, 50]                   543,600\n",
       "├─Linear: 1-2                            [1, 118]                  6,018\n",
       "==========================================================================================\n",
       "Total params: 549,618\n",
       "Trainable params: 549,618\n",
       "Non-trainable params: 0\n",
       "Total mult-adds (M): 27.19\n",
       "==========================================================================================\n",
       "Input size (MB): 0.00\n",
       "Forward/backward pass size (MB): 0.00\n",
       "Params size (MB): 2.20\n",
       "Estimated Total Size (MB): 2.20\n",
       "=========================================================================================="
      ]
     },
     "execution_count": 15,
     "metadata": {},
     "output_type": "execute_result"
    }
   ],
   "source": [
    "summary(trainer.rnn, (1, rnn_window * latent_dim))"
   ]
  },
  {
   "cell_type": "code",
   "execution_count": 16,
   "metadata": {},
   "outputs": [
    {
     "name": "stdout",
     "output_type": "stream",
     "text": [
      "Epoch 1/1000: [MSE: 29.9171], [Val_MSE: 54.1958], \n",
      "Validation loss decreased (inf --> 54.195822).  Saving model ...\n",
      "Epoch 2/1000: [MSE: 72.9197], [Val_MSE: 14.7523], \n",
      "Validation loss decreased (54.195822 --> 14.752263).  Saving model ...\n",
      "Epoch 3/1000: [MSE: 12.1399], [Val_MSE: 6.3972], \n",
      "Validation loss decreased (14.752263 --> 6.397178).  Saving model ...\n",
      "Epoch 4/1000: [MSE: 49.2854], [Val_MSE: 156.4038], \n",
      "EarlyStopping counter: 1 out of 10\n",
      "Epoch 5/1000: [MSE: 25.3996], [Val_MSE: 1.8621], \n",
      "Validation loss decreased (6.397178 --> 1.862078).  Saving model ...\n",
      "Epoch 6/1000: [MSE: 1.6473], [Val_MSE: 1.9060], \n",
      "EarlyStopping counter: 1 out of 10\n",
      "Epoch 7/1000: [MSE: 54.5695], [Val_MSE: 251.8206], \n",
      "EarlyStopping counter: 2 out of 10\n",
      "Epoch 8/1000: [MSE: 1038.3237], [Val_MSE: 62.9522], \n",
      "EarlyStopping counter: 3 out of 10\n",
      "Epoch 9/1000: [MSE: 32.4508], [Val_MSE: 48.2534], \n",
      "EarlyStopping counter: 4 out of 10\n",
      "Epoch 10/1000: [MSE: 21.0160], [Val_MSE: 2.8668], \n",
      "EarlyStopping counter: 5 out of 10\n",
      "Epoch 11/1000: [MSE: 9.4141], [Val_MSE: 5.0097], \n",
      "EarlyStopping counter: 6 out of 10\n",
      "Epoch 12/1000: [MSE: 173.6704], [Val_MSE: 196.0053], \n",
      "EarlyStopping counter: 7 out of 10\n",
      "Epoch 13/1000: [MSE: 23.0717], [Val_MSE: 4.7418], \n",
      "EarlyStopping counter: 8 out of 10\n",
      "Epoch 14/1000: [MSE: 3.0419], [Val_MSE: 2.3063], \n",
      "EarlyStopping counter: 9 out of 10\n",
      "Epoch 15/1000: [MSE: 1.7153], [Val_MSE: 1.4100], \n",
      "Validation loss decreased (1.862078 --> 1.409967).  Saving model ...\n",
      "Epoch 16/1000: [MSE: 1.2223], [Val_MSE: 1.0905], \n",
      "Validation loss decreased (1.409967 --> 1.090483).  Saving model ...\n",
      "Epoch 17/1000: [MSE: 1.0263], [Val_MSE: 0.9617], \n",
      "Validation loss decreased (1.090483 --> 0.961736).  Saving model ...\n",
      "Epoch 18/1000: [MSE: 0.9169], [Val_MSE: 0.8519], \n",
      "Validation loss decreased (0.961736 --> 0.851932).  Saving model ...\n",
      "Epoch 19/1000: [MSE: 0.8511], [Val_MSE: 0.7981], \n",
      "Validation loss decreased (0.851932 --> 0.798099).  Saving model ...\n",
      "Epoch 20/1000: [MSE: 0.7975], [Val_MSE: 0.7638], \n",
      "Validation loss decreased (0.798099 --> 0.763770).  Saving model ...\n",
      "Epoch 21/1000: [MSE: 0.7826], [Val_MSE: 0.7385], \n",
      "Validation loss decreased (0.763770 --> 0.738480).  Saving model ...\n",
      "Epoch 22/1000: [MSE: 0.7438], [Val_MSE: 0.7503], \n",
      "EarlyStopping counter: 1 out of 10\n",
      "Epoch 23/1000: [MSE: 0.7500], [Val_MSE: 0.7013], \n",
      "Validation loss decreased (0.738480 --> 0.701339).  Saving model ...\n",
      "Epoch 24/1000: [MSE: 0.7381], [Val_MSE: 0.7235], \n",
      "EarlyStopping counter: 1 out of 10\n",
      "Epoch 25/1000: [MSE: 0.7702], [Val_MSE: 0.7693], \n",
      "EarlyStopping counter: 2 out of 10\n",
      "Epoch 26/1000: [MSE: 0.7876], [Val_MSE: 0.8207], \n",
      "EarlyStopping counter: 3 out of 10\n",
      "Epoch 27/1000: [MSE: 0.8158], [Val_MSE: 0.7297], \n",
      "EarlyStopping counter: 4 out of 10\n",
      "Epoch 28/1000: [MSE: 0.8664], [Val_MSE: 0.8102], \n",
      "EarlyStopping counter: 5 out of 10\n",
      "Epoch 29/1000: [MSE: 1.4051], [Val_MSE: 1.2834], \n",
      "EarlyStopping counter: 6 out of 10\n",
      "Epoch 30/1000: [MSE: 1.2356], [Val_MSE: 1.0464], \n",
      "EarlyStopping counter: 7 out of 10\n",
      "Epoch 31/1000: [MSE: 0.5972], [Val_MSE: 0.5716], \n",
      "Validation loss decreased (0.701339 --> 0.571591).  Saving model ...\n",
      "Epoch 32/1000: [MSE: 0.5644], [Val_MSE: 0.5643], \n",
      "Validation loss decreased (0.571591 --> 0.564336).  Saving model ...\n",
      "Epoch 33/1000: [MSE: 0.5647], [Val_MSE: 0.5672], \n",
      "EarlyStopping counter: 1 out of 10\n",
      "Epoch 34/1000: [MSE: 0.5700], [Val_MSE: 0.5716], \n",
      "EarlyStopping counter: 2 out of 10\n",
      "Epoch 35/1000: [MSE: 0.5732], [Val_MSE: 0.5731], \n",
      "EarlyStopping counter: 3 out of 10\n",
      "Epoch 36/1000: [MSE: 0.5783], [Val_MSE: 0.5823], \n",
      "EarlyStopping counter: 4 out of 10\n",
      "Epoch 37/1000: [MSE: 0.5870], [Val_MSE: 0.5820], \n",
      "EarlyStopping counter: 5 out of 10\n",
      "Epoch 38/1000: [MSE: 0.5893], [Val_MSE: 0.5928], \n",
      "EarlyStopping counter: 6 out of 10\n",
      "Epoch 39/1000: [MSE: 0.5991], [Val_MSE: 0.5993], \n",
      "EarlyStopping counter: 7 out of 10\n",
      "Epoch 40/1000: [MSE: 0.5343], [Val_MSE: 0.5324], \n",
      "Validation loss decreased (0.564336 --> 0.532360).  Saving model ...\n",
      "Epoch 41/1000: [MSE: 0.5286], [Val_MSE: 0.5325], \n",
      "EarlyStopping counter: 1 out of 10\n",
      "Epoch 42/1000: [MSE: 0.5287], [Val_MSE: 0.5320], \n",
      "Validation loss decreased (0.532360 --> 0.531953).  Saving model ...\n",
      "Epoch 43/1000: [MSE: 0.5291], [Val_MSE: 0.5344], \n",
      "EarlyStopping counter: 1 out of 10\n",
      "Epoch 44/1000: [MSE: 0.5300], [Val_MSE: 0.5341], \n",
      "EarlyStopping counter: 2 out of 10\n",
      "Epoch 45/1000: [MSE: 0.5321], [Val_MSE: 0.5348], \n",
      "EarlyStopping counter: 3 out of 10\n",
      "Epoch 46/1000: [MSE: 0.5325], [Val_MSE: 0.5373], \n",
      "EarlyStopping counter: 4 out of 10\n",
      "Epoch 47/1000: [MSE: 0.5340], [Val_MSE: 0.5384], \n",
      "EarlyStopping counter: 5 out of 10\n",
      "Epoch 48/1000: [MSE: 0.5362], [Val_MSE: 0.5423], \n",
      "EarlyStopping counter: 6 out of 10\n",
      "Epoch 49/1000: [MSE: 0.5369], [Val_MSE: 0.5414], \n",
      "EarlyStopping counter: 7 out of 10\n",
      "Epoch 50/1000: [MSE: 0.5199], [Val_MSE: 0.5212], \n",
      "Validation loss decreased (0.531953 --> 0.521202).  Saving model ...\n",
      "Epoch 51/1000: [MSE: 0.5167], [Val_MSE: 0.5201], \n",
      "Validation loss decreased (0.521202 --> 0.520141).  Saving model ...\n",
      "Epoch 52/1000: [MSE: 0.5175], [Val_MSE: 0.5211], \n",
      "EarlyStopping counter: 1 out of 10\n",
      "Epoch 53/1000: [MSE: 0.5167], [Val_MSE: 0.5204], \n",
      "EarlyStopping counter: 2 out of 10\n",
      "Epoch 54/1000: [MSE: 0.5170], [Val_MSE: 0.5212], \n",
      "EarlyStopping counter: 3 out of 10\n",
      "Epoch 55/1000: [MSE: 0.5178], [Val_MSE: 0.5214], \n",
      "EarlyStopping counter: 4 out of 10\n",
      "Epoch 56/1000: [MSE: 0.5174], [Val_MSE: 0.5206], \n",
      "EarlyStopping counter: 5 out of 10\n",
      "Epoch 57/1000: [MSE: 0.5178], [Val_MSE: 0.5210], \n",
      "EarlyStopping counter: 6 out of 10\n",
      "Epoch 58/1000: [MSE: 0.5175], [Val_MSE: 0.5224], \n",
      "EarlyStopping counter: 7 out of 10\n",
      "Epoch 59/1000: [MSE: 0.5143], [Val_MSE: 0.5173], \n",
      "Validation loss decreased (0.520141 --> 0.517252).  Saving model ...\n",
      "Epoch 60/1000: [MSE: 0.5132], [Val_MSE: 0.5176], \n",
      "EarlyStopping counter: 1 out of 10\n",
      "Epoch 61/1000: [MSE: 0.5134], [Val_MSE: 0.5169], \n",
      "Validation loss decreased (0.517252 --> 0.516881).  Saving model ...\n",
      "Epoch 62/1000: [MSE: 0.5133], [Val_MSE: 0.5170], \n",
      "EarlyStopping counter: 1 out of 10\n",
      "Epoch 63/1000: [MSE: 0.5128], [Val_MSE: 0.5174], \n",
      "EarlyStopping counter: 2 out of 10\n",
      "Epoch 64/1000: [MSE: 0.5133], [Val_MSE: 0.5170], \n",
      "EarlyStopping counter: 3 out of 10\n",
      "Epoch 65/1000: [MSE: 0.5140], [Val_MSE: 0.5171], \n",
      "EarlyStopping counter: 4 out of 10\n",
      "Epoch 66/1000: [MSE: 0.5132], [Val_MSE: 0.5176], \n",
      "EarlyStopping counter: 5 out of 10\n",
      "Epoch 67/1000: [MSE: 0.5134], [Val_MSE: 0.5175], \n",
      "EarlyStopping counter: 6 out of 10\n",
      "Epoch 68/1000: [MSE: 0.5132], [Val_MSE: 0.5173], \n",
      "EarlyStopping counter: 7 out of 10\n",
      "Epoch 69/1000: [MSE: 0.5130], [Val_MSE: 0.5172], \n",
      "EarlyStopping counter: 8 out of 10\n",
      "Epoch 70/1000: [MSE: 0.5133], [Val_MSE: 0.5176], \n",
      "EarlyStopping counter: 9 out of 10\n",
      "Epoch 71/1000: [MSE: 0.5133], [Val_MSE: 0.5174], \n",
      "EarlyStopping counter: 10 out of 10\n",
      "Early stopping!\n"
     ]
    }
   ],
   "source": [
    "rnn, mse, val_mse = trainer.train(train_dl=train_dl,\n",
    "                                  test_dl=test_dl,\n",
    "                                  epochs=epochs)"
   ]
  },
  {
   "cell_type": "code",
   "execution_count": 17,
   "metadata": {},
   "outputs": [],
   "source": [
    "def plot_learning(mse, val_mse):\n",
    "    fig, axs = plt.subplots(figsize=(8,4))\n",
    "    axs.plot(mse, color='r', label='Training')\n",
    "    axs.plot(val_mse, color='b', label='Validation')\n",
    "    axs.set_title('MSE vs. Validation MSE')\n",
    "    plt.legend()\n",
    "    # plt.savefig('./img/mrnntraining.pdf', format='pdf', dpi=1200)\n",
    "    plt.show()"
   ]
  },
  {
   "cell_type": "code",
   "execution_count": 18,
   "metadata": {},
   "outputs": [
    {
     "data": {
      "image/png": "[encoded data removed]",
      "text/plain": [
       "<Figure size 800x400 with 1 Axes>"
      ]
     },
     "metadata": {},
     "output_type": "display_data"
    }
   ],
   "source": [
    "plot_learning(mse, val_mse)"
   ]
  },
  {
   "cell_type": "code",
   "execution_count": 19,
   "metadata": {},
   "outputs": [],
   "source": [
    "zz0 = torch.tensor(X_test[-3:-1,:], dtype=torch.float32).to(device)\n",
    "rnn.eval()\n",
    "zz = rnn(zz0)\n",
    "s_rec = vae.decoder(zz)"
   ]
  },
  {
   "cell_type": "code",
   "execution_count": 20,
   "metadata": {},
   "outputs": [
    {
     "data": {
      "image/png": "[encoded data removed]",
      "text/plain": [
       "<Figure size 800x400 with 1 Axes>"
      ]
     },
     "metadata": {},
     "output_type": "display_data"
    }
   ],
   "source": [
    "fig, axs = plt.subplots(figsize=(8,4))\n",
    "axs.plot(np.transpose(Z.cpu().detach().numpy()[-1,:]), label='True')\n",
    "axs.plot(np.transpose(s_rec[1,:].cpu().detach().numpy()), label='Prediction')\n",
    "axs.set_title('Original Signals')\n",
    "plt.legend()\n",
    "plt.show()"
   ]
  },
  {
   "cell_type": "code",
   "execution_count": 21,
   "metadata": {},
   "outputs": [
    {
     "data": {
      "image/png": "[encoded data removed]",
      "text/plain": [
       "<Figure size 800x400 with 1 Axes>"
      ]
     },
     "metadata": {},
     "output_type": "display_data"
    }
   ],
   "source": [
    "fig, axs = plt.subplots(figsize=(8,4))\n",
    "axs.plot(np.transpose(s_rec.cpu().detach().numpy()))\n",
    "axs.set_title('Next Step Signals')\n",
    "plt.show()"
   ]
  },
  {
   "cell_type": "code",
   "execution_count": null,
   "metadata": {},
   "outputs": [],
   "source": []
  }
 ],
 "metadata": {
  "kernelspec": {
   "display_name": "torch",
   "language": "python",
   "name": "python3"
  },
  "language_info": {
   "codemirror_mode": {
    "name": "ipython",
    "version": 3
   },
   "file_extension": ".py",
   "mimetype": "text/x-python",
   "name": "python",
   "nbconvert_exporter": "python",
   "pygments_lexer": "ipython3",
   "version": "3.10.11"
  },
  "orig_nbformat": 4
 },
 "nbformat": 4,
 "nbformat_minor": 2
}
