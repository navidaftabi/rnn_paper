{
 "cells": [
  {
   "cell_type": "code",
   "execution_count": 27,
   "metadata": {},
   "outputs": [],
   "source": [
    "import os\n",
    "import re\n",
    "import numpy as np\n",
    "from tqdm import tqdm\n",
    "from scipy.io import loadmat\n",
    "import matplotlib.pyplot as plt\n",
    "from pandas import DataFrame, concat\n",
    "\n",
    "import torch\n",
    "from torchinfo import summary\n",
    "from torch.utils.data import DataLoader\n",
    "import torch.nn.functional as F\n",
    "\n",
    "from models.vae import VAE\n",
    "from models.rnn import RNN\n",
    "from models.dnn_trainer import DNNTrainer"
   ]
  },
  {
   "cell_type": "code",
   "execution_count": 15,
   "metadata": {},
   "outputs": [],
   "source": [
    "# 5 levels of attack intensity: levels 5, 6, 7, 8, 9\n",
    "attack_intensity = 5\n",
    "# Path to all dataset\n",
    "DATASET_PATH = os.path.join(os.getcwd(), 'data')\n",
    "# Path to the folder where the pretrained models are saved\n",
    "CHECKPOINT_PATH = os.path.join(os.getcwd(), 'checkpoints')"
   ]
  },
  {
   "cell_type": "code",
   "execution_count": 16,
   "metadata": {},
   "outputs": [],
   "source": [
    "seed = 13\n",
    "# seed = 23\n",
    "torch.manual_seed(seed)\n",
    "# torch.cuda.manual_seed(seed)\n",
    "# torch.cuda.manual_seed_all(seed)\n",
    "# torch.backends.cudnn.deterministic = True\n",
    "device = 'cuda' if torch.cuda.is_available() else 'cpu'"
   ]
  },
  {
   "cell_type": "markdown",
   "metadata": {},
   "source": [
    "# DNN Data Generation"
   ]
  },
  {
   "cell_type": "code",
   "execution_count": 17,
   "metadata": {},
   "outputs": [],
   "source": [
    "def series_to_supervised(data, n_in=1, n_out=1, dropnan=True):\n",
    "    n_vars = 1 if type(data) is list else data.shape[1]\n",
    "    df = DataFrame(data)\n",
    "    cols, names = list(), list()\n",
    "    # input sequence (t-n, ... t-1)\n",
    "    for i in range(n_in, 0, -1):\n",
    "        cols.append(df.shift(i))\n",
    "        names += [('var%d(t-%d)' % (j+1, i)) for j in range(n_vars)]\n",
    "    # forecast sequence (t, t+1, ... t+n)\n",
    "    for i in range(0, n_out):\n",
    "        cols.append(df.shift(-i))\n",
    "        if i == 0:\n",
    "            names += [('var%d(t)' % (j+1)) for j in range(n_vars)]\n",
    "        else:\n",
    "            names += [('var%d(t+%d)' % (j+1, i)) for j in range(n_vars)]\n",
    "    # put it all together\n",
    "    agg = concat(cols, axis=1)\n",
    "    agg.columns = names\n",
    "    # drop rows with NaN values\n",
    "    if dropnan:\n",
    "        agg.dropna(inplace=True)\n",
    "    return agg"
   ]
  },
  {
   "cell_type": "code",
   "execution_count": 18,
   "metadata": {},
   "outputs": [
    {
     "name": "stderr",
     "output_type": "stream",
     "text": [
      "Reading data ... : 100%|██████████| 3/3 [00:00<00:00,  6.90it/s]\n"
     ]
    }
   ],
   "source": [
    "ATTACK_DATA_PATH = os.path.join(DATASET_PATH, f'I{attack_intensity}')\n",
    "Z, RES = dict(), dict()\n",
    "for filename in tqdm(os.listdir(ATTACK_DATA_PATH), desc='Reading data ... '):\n",
    "    fname = os.path.join(ATTACK_DATA_PATH, filename)\n",
    "    data = loadmat(fname)\n",
    "    att_type = int(re.findall(r'\\d+', filename)[0])\n",
    "    Z[att_type] = data['Z']\n",
    "    RES[att_type] = data['Res']\n",
    "\n",
    "NORMAL_DATA_FILENAME = 'Normal2.mat'\n",
    "data = loadmat(os.path.join(DATASET_PATH, NORMAL_DATA_FILENAME))\n",
    "Z[0] = data['Z']\n",
    "RES[0] = data['Res']\n",
    "\n",
    "\n",
    "Z = dict(sorted(Z.items()))\n",
    "RES = dict(sorted(RES.items()))"
   ]
  },
  {
   "cell_type": "code",
   "execution_count": 19,
   "metadata": {},
   "outputs": [],
   "source": [
    "latent_dim = 118\n",
    "hidden_size = 100\n",
    "num_layers = 2\n",
    "batch_size = 16\n",
    "rnn_window = 10\n",
    "samples = 30"
   ]
  },
  {
   "cell_type": "code",
   "execution_count": 20,
   "metadata": {},
   "outputs": [
    {
     "data": {
      "text/plain": [
       "<All keys matched successfully>"
      ]
     },
     "execution_count": 20,
     "metadata": {},
     "output_type": "execute_result"
    }
   ],
   "source": [
    "vae = VAE(latent_dim).to(device)\n",
    "vae.load_state_dict(torch.load(os.path.join(CHECKPOINT_PATH, 'vae.pt')))\n",
    "\n",
    "rnn = RNN(input_dims=rnn_window * latent_dim,\n",
    "          outputdims=latent_dim,\n",
    "          hidden_size=hidden_size,\n",
    "          num_layers=num_layers)\n",
    "rnn.load_state_dict(torch.load(os.path.join(CHECKPOINT_PATH, 'rnn.pt')))"
   ]
  },
  {
   "cell_type": "code",
   "execution_count": 26,
   "metadata": {},
   "outputs": [
    {
     "name": "stderr",
     "output_type": "stream",
     "text": [
      "Generating residuals ... : 100%|██████████| 4/4 [02:41<00:00, 40.28s/it]\n"
     ]
    }
   ],
   "source": [
    "vae.eval()\n",
    "rnn.eval()\n",
    "Res = dict()\n",
    "for k, v in tqdm(Z.items(), desc=\"Generating residuals ... \"):\n",
    "    # state estimation residual\n",
    "    r1 = torch.tensor(RES[k], dtype=torch.float32)\n",
    "    \n",
    "    z = torch.tensor(v, dtype=torch.float32).to(device)\n",
    "    R = []\n",
    "    for _ in range(samples):\n",
    "        # VAE residuals\n",
    "        z_rec = vae(z)\n",
    "        r2 = (z_rec - z).detach().cpu()\n",
    "        \n",
    "        # rnn prediction residual\n",
    "        s_t = vae.encoder(z)\n",
    "        s_t = series_to_supervised(s_t.cpu().detach().numpy(), n_in=rnn_window).values[:,:rnn_window * latent_dim]\n",
    "        s_t = torch.tensor(s_t, dtype=torch.float32)\n",
    "        s_tt = rnn(s_t)\n",
    "        z_rnn = vae.decoder(s_tt)\n",
    "        # r3 = (z_rnn - z[rnn_window:]).detach().cpu()\n",
    "        # R.append(torch.stack([r1[rnn_window:],r2[rnn_window:],r3], dim=1))\n",
    "        r0 = (z_rnn - z[rnn_window:]).detach().cpu()\n",
    "        r3 = torch.zeros(r1.size(), dtype=torch.float32)\n",
    "        index = torch.tensor(list(range(rnn_window, len(r1))))\n",
    "        r3.index_add_(0, index, r0)\n",
    "        R.append(torch.stack([r1,r2,r3], dim=1))\n",
    "    Res[k] = torch.stack(R, dim=1)"
   ]
  },
  {
   "cell_type": "code",
   "execution_count": 28,
   "metadata": {},
   "outputs": [],
   "source": [
    "def get_data(train_size):\n",
    "    X, y = dict(), dict()\n",
    "    trainX, testX = [], []\n",
    "    trainY, testY = [], []\n",
    "    for k, v in Res.items():\n",
    "        y_i = k * torch.ones((v.shape[0]), dtype=torch.long)\n",
    "        trainX.append(v[:train_size])\n",
    "        testX.append(v[train_size:])\n",
    "        trainY.append(y_i[:train_size])\n",
    "        testY.append(y_i[train_size:])\n",
    "    X['train'] = torch.cat(trainX, dim=0)\n",
    "    X['test'] = torch.cat(testX, dim=0)\n",
    "    y['train'] = F.one_hot(torch.cat(trainY, dim=0)).float()\n",
    "    y['test'] = F.one_hot(torch.cat(testY, dim=0)).float()\n",
    "    return X, y"
   ]
  },
  {
   "cell_type": "code",
   "execution_count": 29,
   "metadata": {},
   "outputs": [],
   "source": [
    "class ResidualData():\n",
    "    def __init__(self, X, y):\n",
    "        self.X, self.y = X, y\n",
    "    \n",
    "    def __len__(self):\n",
    "        return len(self.y)\n",
    "        \n",
    "    def __getitem__(self, idx):\n",
    "        return self.X[idx], self.y[idx]"
   ]
  },
  {
   "cell_type": "markdown",
   "metadata": {},
   "source": [
    "# Train DNN"
   ]
  },
  {
   "cell_type": "code",
   "execution_count": 30,
   "metadata": {},
   "outputs": [],
   "source": [
    "batch_size = 16\n",
    "epochs = 1000\n",
    "train_size = int(len(Res[0]) * 0.85)\n",
    "epochs = 1000\n",
    "lr = 1e-1\n",
    "scheduler = True\n",
    "es_patience = 10"
   ]
  },
  {
   "cell_type": "code",
   "execution_count": 31,
   "metadata": {},
   "outputs": [],
   "source": [
    "X, y = get_data(train_size)\n",
    "training = ResidualData(X['train'], y['train'])\n",
    "test = ResidualData(X['test'], y['test'])\n",
    "train_dl = DataLoader(training, batch_size=batch_size, shuffle=True)\n",
    "test_dl = DataLoader(test)"
   ]
  },
  {
   "cell_type": "code",
   "execution_count": 32,
   "metadata": {},
   "outputs": [
    {
     "data": {
      "text/plain": [
       "torch.Size([11176, 30, 3, 358])"
      ]
     },
     "execution_count": 32,
     "metadata": {},
     "output_type": "execute_result"
    }
   ],
   "source": [
    "X['train'].shape"
   ]
  },
  {
   "cell_type": "code",
   "execution_count": 34,
   "metadata": {},
   "outputs": [
    {
     "name": "stdout",
     "output_type": "stream",
     "text": [
      "Device:  cpu\n"
     ]
    }
   ],
   "source": [
    "trainer = DNNTrainer(lr=lr, lr_scheduler=scheduler,\n",
    "                     es_patience=es_patience, seed=seed)"
   ]
  },
  {
   "cell_type": "code",
   "execution_count": 35,
   "metadata": {},
   "outputs": [
    {
     "data": {
      "text/plain": [
       "==========================================================================================\n",
       "Layer (type:depth-idx)                   Output Shape              Param #\n",
       "==========================================================================================\n",
       "DNN                                      [1, 4]                    --\n",
       "├─Linear: 1-1                            [1, 30, 3, 128]           45,952\n",
       "├─Linear: 1-2                            [1, 30, 3, 64]            8,256\n",
       "├─Linear: 1-3                            [1, 30, 3, 32]            2,080\n",
       "├─Linear: 1-4                            [1, 30, 64]               6,208\n",
       "├─Linear: 1-5                            [1, 30, 16]               1,040\n",
       "├─Linear: 1-6                            [1, 30, 4]                68\n",
       "==========================================================================================\n",
       "Total params: 63,604\n",
       "Trainable params: 63,604\n",
       "Non-trainable params: 0\n",
       "Total mult-adds (Units.MEGABYTES): 0.06\n",
       "==========================================================================================\n",
       "Input size (MB): 0.13\n",
       "Forward/backward pass size (MB): 0.18\n",
       "Params size (MB): 0.25\n",
       "Estimated Total Size (MB): 0.56\n",
       "=========================================================================================="
      ]
     },
     "execution_count": 35,
     "metadata": {},
     "output_type": "execute_result"
    }
   ],
   "source": [
    "summary(trainer.dnn, (1, 30, 3, 358))"
   ]
  },
  {
   "cell_type": "code",
   "execution_count": 36,
   "metadata": {},
   "outputs": [
    {
     "name": "stdout",
     "output_type": "stream",
     "text": [
      "Epoch 1/1000: [Loss: 1.4808], [Accuracy: 0.2440], [Val_Loss: 1.4937], [Val_Accuracy: 0.2500]\n",
      "Validation loss decreased (inf --> 1.493668).  Saving model ...\n",
      "Epoch 2/1000: [Loss: 1.4936], [Accuracy: 0.2499], [Val_Loss: 1.4937], [Val_Accuracy: 0.2500]\n",
      "Validation loss decreased (1.493668 --> 1.493668).  Saving model ...\n",
      "Epoch 3/1000: [Loss: 1.4958], [Accuracy: 0.2478], [Val_Loss: 1.4937], [Val_Accuracy: 0.2500]\n",
      "Validation loss decreased (1.493668 --> 1.493668).  Saving model ...\n",
      "Epoch 4/1000: [Loss: 1.4909], [Accuracy: 0.2526], [Val_Loss: 1.4937], [Val_Accuracy: 0.2500]\n",
      "Validation loss decreased (1.493668 --> 1.493668).  Saving model ...\n",
      "Epoch 5/1000: [Loss: 1.4949], [Accuracy: 0.2484], [Val_Loss: 1.4937], [Val_Accuracy: 0.2500]\n",
      "EarlyStopping counter: 1 out of 10\n",
      "Epoch 6/1000: [Loss: 1.4998], [Accuracy: 0.2431], [Val_Loss: 1.4937], [Val_Accuracy: 0.2500]\n",
      "EarlyStopping counter: 2 out of 10\n",
      "Epoch 7/1000: [Loss: 1.4925], [Accuracy: 0.2508], [Val_Loss: 1.4937], [Val_Accuracy: 0.2500]\n",
      "EarlyStopping counter: 3 out of 10\n",
      "Epoch 8/1000: [Loss: 1.4975], [Accuracy: 0.2459], [Val_Loss: 1.4937], [Val_Accuracy: 0.2500]\n",
      "Validation loss decreased (1.493668 --> 1.493668).  Saving model ...\n",
      "Epoch 9/1000: [Loss: 1.4900], [Accuracy: 0.2531], [Val_Loss: 1.4937], [Val_Accuracy: 0.2500]\n",
      "EarlyStopping counter: 1 out of 10\n",
      "Epoch 10/1000: [Loss: 1.4713], [Accuracy: 0.2572], [Val_Loss: 1.4937], [Val_Accuracy: 0.2500]\n",
      "Validation loss decreased (1.493668 --> 1.493659).  Saving model ...\n",
      "Epoch 11/1000: [Loss: 1.4738], [Accuracy: 0.2459], [Val_Loss: 1.4937], [Val_Accuracy: 0.2500]\n",
      "EarlyStopping counter: 1 out of 10\n",
      "Epoch 12/1000: [Loss: 1.4916], [Accuracy: 0.2519], [Val_Loss: 1.4937], [Val_Accuracy: 0.2500]\n",
      "EarlyStopping counter: 2 out of 10\n",
      "Epoch 13/1000: [Loss: 1.4644], [Accuracy: 0.2416], [Val_Loss: 1.4935], [Val_Accuracy: 0.2500]\n",
      "Validation loss decreased (1.493659 --> 1.493505).  Saving model ...\n",
      "Epoch 14/1000: [Loss: 1.4964], [Accuracy: 0.2469], [Val_Loss: 1.4937], [Val_Accuracy: 0.2500]\n",
      "EarlyStopping counter: 1 out of 10\n",
      "Epoch 15/1000: [Loss: 1.4966], [Accuracy: 0.2466], [Val_Loss: 1.4937], [Val_Accuracy: 0.2500]\n",
      "EarlyStopping counter: 2 out of 10\n",
      "Epoch 16/1000: [Loss: 1.5007], [Accuracy: 0.2427], [Val_Loss: 1.4937], [Val_Accuracy: 0.2500]\n",
      "EarlyStopping counter: 3 out of 10\n",
      "Epoch 17/1000: [Loss: 1.4922], [Accuracy: 0.2511], [Val_Loss: 1.4937], [Val_Accuracy: 0.2500]\n",
      "EarlyStopping counter: 4 out of 10\n",
      "Epoch 18/1000: [Loss: 1.4931], [Accuracy: 0.2502], [Val_Loss: 1.4901], [Val_Accuracy: 0.2546]\n",
      "Validation loss decreased (1.493505 --> 1.490088).  Saving model ...\n",
      "Epoch 19/1000: [Loss: 1.4915], [Accuracy: 0.2513], [Val_Loss: 1.4937], [Val_Accuracy: 0.2500]\n",
      "EarlyStopping counter: 1 out of 10\n",
      "Epoch 20/1000: [Loss: 1.4785], [Accuracy: 0.2520], [Val_Loss: 1.4937], [Val_Accuracy: 0.2500]\n",
      "EarlyStopping counter: 2 out of 10\n",
      "Epoch 21/1000: [Loss: 1.4882], [Accuracy: 0.2531], [Val_Loss: 1.4937], [Val_Accuracy: 0.2500]\n",
      "EarlyStopping counter: 3 out of 10\n",
      "Epoch 22/1000: [Loss: 1.4937], [Accuracy: 0.2499], [Val_Loss: 1.4937], [Val_Accuracy: 0.2500]\n",
      "EarlyStopping counter: 4 out of 10\n",
      "Epoch 23/1000: [Loss: 1.4898], [Accuracy: 0.2530], [Val_Loss: 1.4937], [Val_Accuracy: 0.2500]\n",
      "EarlyStopping counter: 5 out of 10\n",
      "Epoch 24/1000: [Loss: 1.4957], [Accuracy: 0.2477], [Val_Loss: 1.4937], [Val_Accuracy: 0.2500]\n",
      "EarlyStopping counter: 6 out of 10\n",
      "Epoch 25/1000: [Loss: 1.4792], [Accuracy: 0.2494], [Val_Loss: 1.4937], [Val_Accuracy: 0.2500]\n",
      "EarlyStopping counter: 7 out of 10\n",
      "Epoch 26/1000: [Loss: 1.4936], [Accuracy: 0.2501], [Val_Loss: 1.4937], [Val_Accuracy: 0.2500]\n",
      "EarlyStopping counter: 8 out of 10\n",
      "Epoch 27/1000: [Loss: 1.2116], [Accuracy: 0.5283], [Val_Loss: 1.3504], [Val_Accuracy: 0.3467]\n",
      "Validation loss decreased (1.490088 --> 1.350427).  Saving model ...\n",
      "Epoch 28/1000: [Loss: 1.2450], [Accuracy: 0.4985], [Val_Loss: 1.2437], [Val_Accuracy: 0.5000]\n",
      "Validation loss decreased (1.350427 --> 1.243677).  Saving model ...\n",
      "Epoch 29/1000: [Loss: 1.3939], [Accuracy: 0.3499], [Val_Loss: 1.4937], [Val_Accuracy: 0.2500]\n",
      "EarlyStopping counter: 1 out of 10\n",
      "Epoch 30/1000: [Loss: 1.1757], [Accuracy: 0.5667], [Val_Loss: 1.1894], [Val_Accuracy: 0.5516]\n",
      "Validation loss decreased (1.243677 --> 1.189419).  Saving model ...\n",
      "Epoch 31/1000: [Loss: 1.0247], [Accuracy: 0.7189], [Val_Loss: 0.9938], [Val_Accuracy: 0.7500]\n",
      "Validation loss decreased (1.189419 --> 0.993792).  Saving model ...\n",
      "Epoch 32/1000: [Loss: 1.0097], [Accuracy: 0.7343], [Val_Loss: 0.9988], [Val_Accuracy: 0.7449]\n",
      "EarlyStopping counter: 1 out of 10\n",
      "Epoch 33/1000: [Loss: 1.0439], [Accuracy: 0.6998], [Val_Loss: 0.9937], [Val_Accuracy: 0.7500]\n",
      "Validation loss decreased (0.993792 --> 0.993678).  Saving model ...\n",
      "Epoch 34/1000: [Loss: 1.0002], [Accuracy: 0.7435], [Val_Loss: 1.2364], [Val_Accuracy: 0.5000]\n",
      "EarlyStopping counter: 1 out of 10\n",
      "Epoch 35/1000: [Loss: 1.1245], [Accuracy: 0.6183], [Val_Loss: 0.9937], [Val_Accuracy: 0.7500]\n",
      "EarlyStopping counter: 2 out of 10\n",
      "Epoch 36/1000: [Loss: 1.3677], [Accuracy: 0.3760], [Val_Loss: 1.4937], [Val_Accuracy: 0.2500]\n",
      "EarlyStopping counter: 3 out of 10\n",
      "Epoch 37/1000: [Loss: 1.3430], [Accuracy: 0.4007], [Val_Loss: 1.2437], [Val_Accuracy: 0.5000]\n",
      "EarlyStopping counter: 4 out of 10\n",
      "Epoch 38/1000: [Loss: 1.2061], [Accuracy: 0.5361], [Val_Loss: 1.2437], [Val_Accuracy: 0.5000]\n",
      "EarlyStopping counter: 5 out of 10\n",
      "Epoch 39/1000: [Loss: 1.2430], [Accuracy: 0.5007], [Val_Loss: 1.2442], [Val_Accuracy: 0.4995]\n",
      "EarlyStopping counter: 6 out of 10\n",
      "Epoch 40/1000: [Loss: 1.2440], [Accuracy: 0.4996], [Val_Loss: 1.2437], [Val_Accuracy: 0.5000]\n",
      "EarlyStopping counter: 7 out of 10\n",
      "Epoch 41/1000: [Loss: 0.7896], [Accuracy: 0.9583], [Val_Loss: 0.7443], [Val_Accuracy: 0.9995]\n",
      "Validation loss decreased (0.993678 --> 0.744294).  Saving model ...\n",
      "Epoch 42/1000: [Loss: 0.7451], [Accuracy: 0.9985], [Val_Loss: 0.7443], [Val_Accuracy: 0.9995]\n",
      "Validation loss decreased (0.744294 --> 0.744254).  Saving model ...\n",
      "Epoch 43/1000: [Loss: 0.7483], [Accuracy: 0.9954], [Val_Loss: 0.7443], [Val_Accuracy: 0.9995]\n",
      "EarlyStopping counter: 1 out of 10\n",
      "Epoch 44/1000: [Loss: 0.7463], [Accuracy: 0.9977], [Val_Loss: 0.7442], [Val_Accuracy: 0.9995]\n",
      "Validation loss decreased (0.744254 --> 0.744227).  Saving model ...\n",
      "Epoch 45/1000: [Loss: 0.7453], [Accuracy: 0.9982], [Val_Loss: 0.7442], [Val_Accuracy: 0.9995]\n",
      "EarlyStopping counter: 1 out of 10\n",
      "Epoch 46/1000: [Loss: 0.7488], [Accuracy: 0.9951], [Val_Loss: 0.7442], [Val_Accuracy: 0.9995]\n",
      "Validation loss decreased (0.744227 --> 0.744200).  Saving model ...\n",
      "Epoch 47/1000: [Loss: 0.7458], [Accuracy: 0.9979], [Val_Loss: 0.7442], [Val_Accuracy: 0.9995]\n",
      "EarlyStopping counter: 1 out of 10\n",
      "Epoch 48/1000: [Loss: 0.7564], [Accuracy: 0.9875], [Val_Loss: 0.7442], [Val_Accuracy: 0.9995]\n",
      "EarlyStopping counter: 2 out of 10\n",
      "Epoch 49/1000: [Loss: 0.7475], [Accuracy: 0.9962], [Val_Loss: 0.7442], [Val_Accuracy: 0.9995]\n",
      "EarlyStopping counter: 3 out of 10\n",
      "Epoch 50/1000: [Loss: 0.7562], [Accuracy: 0.9874], [Val_Loss: 0.7442], [Val_Accuracy: 0.9995]\n",
      "EarlyStopping counter: 4 out of 10\n",
      "Epoch 51/1000: [Loss: 0.7464], [Accuracy: 0.9971], [Val_Loss: 0.7444], [Val_Accuracy: 0.9995]\n",
      "EarlyStopping counter: 5 out of 10\n",
      "Epoch 52/1000: [Loss: 0.7463], [Accuracy: 0.9975], [Val_Loss: 0.7442], [Val_Accuracy: 0.9995]\n",
      "EarlyStopping counter: 6 out of 10\n",
      "Epoch 53/1000: [Loss: 0.7457], [Accuracy: 0.9980], [Val_Loss: 0.7456], [Val_Accuracy: 0.9975]\n",
      "EarlyStopping counter: 7 out of 10\n",
      "Epoch 54/1000: [Loss: 0.7439], [Accuracy: 0.9998], [Val_Loss: 0.7442], [Val_Accuracy: 0.9995]\n",
      "EarlyStopping counter: 8 out of 10\n",
      "Epoch 55/1000: [Loss: 0.7439], [Accuracy: 0.9998], [Val_Loss: 0.7442], [Val_Accuracy: 0.9995]\n",
      "EarlyStopping counter: 9 out of 10\n",
      "Epoch 56/1000: [Loss: 0.7440], [Accuracy: 0.9998], [Val_Loss: 0.7442], [Val_Accuracy: 0.9995]\n",
      "EarlyStopping counter: 10 out of 10\n",
      "Early stopping!\n"
     ]
    }
   ],
   "source": [
    "dnn, loss, val_loss, acc, val_acc = trainer.train(train_dl=train_dl,\n",
    "                                                  val_dl=test_dl,\n",
    "                                                  epochs=epochs)"
   ]
  },
  {
   "cell_type": "code",
   "execution_count": 37,
   "metadata": {},
   "outputs": [],
   "source": [
    "def plot_learning(loss, val_loss):\n",
    "    fig, axs = plt.subplots(figsize=(10,8))\n",
    "    axs.plot(loss, color='r', label='Training')\n",
    "    axs.plot(val_loss, color='b', label='Validation')\n",
    "    axs.set_title('Training vs. Validation Loss')\n",
    "    plt.legend()\n",
    "    # plt.savefig('acc.pdf', format='pdf', dpi=1200)\n",
    "    plt.show()"
   ]
  },
  {
   "cell_type": "code",
   "execution_count": 38,
   "metadata": {},
   "outputs": [
    {
     "data": {
      "image/png": "[encoded data removed]",
      "text/plain": [
       "<Figure size 1000x800 with 1 Axes>"
      ]
     },
     "metadata": {},
     "output_type": "display_data"
    }
   ],
   "source": [
    "plot_learning(loss, val_loss)"
   ]
  },
  {
   "cell_type": "code",
   "execution_count": 39,
   "metadata": {},
   "outputs": [
    {
     "data": {
      "image/png": "[encoded data removed]",
      "text/plain": [
       "<Figure size 1000x800 with 1 Axes>"
      ]
     },
     "metadata": {},
     "output_type": "display_data"
    }
   ],
   "source": [
    "plot_learning(acc, val_acc)"
   ]
  },
  {
   "cell_type": "code",
   "execution_count": 40,
   "metadata": {},
   "outputs": [
    {
     "data": {
      "text/plain": [
       "tensor([[9.9991e-01, 2.5543e-16, 7.1781e-19, 8.5218e-05],\n",
       "        [9.9999e-01, 3.1852e-18, 1.5333e-20, 8.0427e-06],\n",
       "        [9.9999e-01, 3.6056e-18, 2.7803e-20, 5.2768e-06],\n",
       "        ...,\n",
       "        [2.2968e-06, 5.3401e-06, 1.0491e-11, 9.9999e-01],\n",
       "        [5.8431e-06, 3.1088e-06, 8.7552e-12, 9.9999e-01],\n",
       "        [3.9364e-05, 4.4737e-07, 1.7598e-12, 9.9996e-01]],\n",
       "       grad_fn=<SqueezeBackward1>)"
      ]
     },
     "execution_count": 40,
     "metadata": {},
     "output_type": "execute_result"
    }
   ],
   "source": [
    "dnn.eval()\n",
    "preds = dnn(X['test'].to(device))\n",
    "preds"
   ]
  },
  {
   "cell_type": "code",
   "execution_count": 41,
   "metadata": {},
   "outputs": [
    {
     "data": {
      "text/plain": [
       "tensor([[1.0000e+00, 1.1518e-17, 1.6145e-19, 3.3852e-06],\n",
       "        [9.9999e-01, 9.8404e-17, 1.5714e-18, 8.5630e-06],\n",
       "        [1.0000e+00, 2.1316e-17, 3.1197e-19, 4.3705e-06],\n",
       "        ...,\n",
       "        [1.9570e-06, 3.7120e-06, 5.5755e-12, 9.9999e-01],\n",
       "        [7.0405e-06, 1.3404e-06, 2.8811e-12, 9.9999e-01],\n",
       "        [4.1465e-07, 2.1188e-05, 2.1517e-11, 9.9998e-01]],\n",
       "       grad_fn=<SqueezeBackward1>)"
      ]
     },
     "execution_count": 41,
     "metadata": {},
     "output_type": "execute_result"
    }
   ],
   "source": [
    "dnn.eval()\n",
    "pred_train = dnn(X['train'].to(device))\n",
    "pred_train"
   ]
  },
  {
   "cell_type": "code",
   "execution_count": 42,
   "metadata": {},
   "outputs": [
    {
     "data": {
      "text/plain": [
       "tensor(0.9995)"
      ]
     },
     "execution_count": 42,
     "metadata": {},
     "output_type": "execute_result"
    }
   ],
   "source": [
    "trainer.accuracy(preds, y['test'])"
   ]
  },
  {
   "cell_type": "code",
   "execution_count": 43,
   "metadata": {},
   "outputs": [
    {
     "data": {
      "text/plain": [
       "tensor(0.9998)"
      ]
     },
     "execution_count": 43,
     "metadata": {},
     "output_type": "execute_result"
    }
   ],
   "source": [
    "trainer.accuracy(pred_train, y['train'])"
   ]
  },
  {
   "cell_type": "code",
   "execution_count": null,
   "metadata": {},
   "outputs": [],
   "source": [
    "trainer.accuracy(pred_train, y['train'])"
   ]
  },
  {
   "cell_type": "code",
   "execution_count": null,
   "metadata": {},
   "outputs": [],
   "source": []
  }
 ],
 "metadata": {
  "kernelspec": {
   "display_name": "torch",
   "language": "python",
   "name": "python3"
  },
  "language_info": {
   "codemirror_mode": {
    "name": "ipython",
    "version": 3
   },
   "file_extension": ".py",
   "mimetype": "text/x-python",
   "name": "python",
   "nbconvert_exporter": "python",
   "pygments_lexer": "ipython3",
   "version": "3.11.3"
  },
  "orig_nbformat": 4
 },
 "nbformat": 4,
 "nbformat_minor": 2
}
