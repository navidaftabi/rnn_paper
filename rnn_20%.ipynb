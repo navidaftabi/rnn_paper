{
 "cells": [
  {
   "cell_type": "code",
   "execution_count": 1,
   "metadata": {},
   "outputs": [],
   "source": [
    "noise_type = 7\n",
    "noise_percent = 0.20"
   ]
  },
  {
   "cell_type": "code",
   "execution_count": 2,
   "metadata": {},
   "outputs": [],
   "source": [
    "import os\n",
    "import re\n",
    "import random\n",
    "import numpy as np\n",
    "from tqdm import tqdm\n",
    "from scipy.io import loadmat\n",
    "import matplotlib.pyplot as plt\n",
    "from pandas import DataFrame, concat\n",
    "\n",
    "import torch\n",
    "from torchinfo import summary\n",
    "from torch.utils.data import DataLoader\n",
    "\n",
    "from models.vae import VAE\n",
    "from models.rnn_trainer import RNNTrainer"
   ]
  },
  {
   "cell_type": "code",
   "execution_count": 3,
   "metadata": {},
   "outputs": [],
   "source": [
    "DATASET_PATH = os.path.join(os.getcwd(), 'data')\n",
    "# Path to the folder where the pretrained models are saved\n",
    "CHECKPOINT_PATH = os.path.join(os.getcwd(), 'checkpoints')"
   ]
  },
  {
   "cell_type": "code",
   "execution_count": 4,
   "metadata": {},
   "outputs": [],
   "source": [
    "seed = 13\n",
    "# seed = 23\n",
    "torch.manual_seed(seed)\n",
    "# torch.cuda.manual_seed(seed)\n",
    "# torch.cuda.manual_seed_all(seed)\n",
    "# torch.backends.cudnn.deterministic = True\n",
    "device = 'cuda' if torch.cuda.is_available() else 'cpu'"
   ]
  },
  {
   "cell_type": "code",
   "execution_count": 5,
   "metadata": {},
   "outputs": [],
   "source": [
    "class RNNDataset():\n",
    "    def __init__(self, x, y):\n",
    "        self.x = x\n",
    "        self.y = y\n",
    "    \n",
    "    def __len__(self):\n",
    "        return len(self.y)\n",
    "    \n",
    "    def __getitem__(self, idx):\n",
    "        return self.x[idx], self.y[idx]"
   ]
  },
  {
   "cell_type": "code",
   "execution_count": 6,
   "metadata": {},
   "outputs": [],
   "source": [
    "def series_to_supervised(data, n_in=1, n_out=1, dropnan=True):\n",
    "    n_vars = 1 if type(data) is list else data.shape[1]\n",
    "    df = DataFrame(data)\n",
    "    cols, names = list(), list()\n",
    "    # input sequence (t-n, ... t-1)\n",
    "    for i in range(n_in, 0, -1):\n",
    "        cols.append(df.shift(i))\n",
    "        names += [('var%d(t-%d)' % (j+1, i)) for j in range(n_vars)]\n",
    "    # forecast sequence (t, t+1, ... t+n)\n",
    "    for i in range(0, n_out):\n",
    "        cols.append(df.shift(-i))\n",
    "        if i == 0:\n",
    "            names += [('var%d(t)' % (j+1)) for j in range(n_vars)]\n",
    "        else:\n",
    "            names += [('var%d(t+%d)' % (j+1, i)) for j in range(n_vars)]\n",
    "    # put it all together\n",
    "    agg = concat(cols, axis=1)\n",
    "    agg.columns = names\n",
    "    # drop rows with NaN values\n",
    "    if dropnan:\n",
    "        agg.dropna(inplace=True)\n",
    "    return agg"
   ]
  },
  {
   "cell_type": "code",
   "execution_count": 7,
   "metadata": {},
   "outputs": [],
   "source": [
    "latent_dim = 118\n",
    "hidden_size = 100\n",
    "num_layers = 2\n",
    "batch_size = 16\n",
    "rnn_window = 10\n",
    "epochs = 1000\n",
    "lr = 1e-1\n",
    "scheduler = True\n",
    "es_patience = 10"
   ]
  },
  {
   "cell_type": "code",
   "execution_count": 8,
   "metadata": {},
   "outputs": [],
   "source": [
    "data_filename = 'Normal1.mat'\n",
    "data = loadmat(os.path.join(DATASET_PATH, data_filename))\n",
    "Z = data['Z']\n",
    "T = len(Z)"
   ]
  },
  {
   "cell_type": "code",
   "execution_count": 9,
   "metadata": {},
   "outputs": [
    {
     "data": {
      "text/plain": [
       "<All keys matched successfully>"
      ]
     },
     "execution_count": 9,
     "metadata": {},
     "output_type": "execute_result"
    }
   ],
   "source": [
    "vae = VAE(latent_dim).to(device)\n",
    "vae.load_state_dict(torch.load(os.path.join(CHECKPOINT_PATH, f'vae_{int(noise_percent*100)}%.pt')))"
   ]
  },
  {
   "cell_type": "code",
   "execution_count": 10,
   "metadata": {},
   "outputs": [
    {
     "name": "stderr",
     "output_type": "stream",
     "text": [
      "Reading noise data ... : 100%|██████████| 3/3 [00:00<00:00,  6.97it/s]\n"
     ]
    }
   ],
   "source": [
    "# read attack noise\n",
    "noise_size = int(T * noise_percent)\n",
    "norm_operation_win = 50\n",
    "NOISE_PATH = os.path.join(DATASET_PATH, f'I{noise_type}')\n",
    "Z_noise = dict()\n",
    "for filename in tqdm(os.listdir(NOISE_PATH), desc='Reading noise data ... '):\n",
    "    fname = os.path.join(NOISE_PATH, filename)\n",
    "    data = loadmat(fname)\n",
    "    att_type = int(re.findall(r'\\d+', filename)[0])\n",
    "    Z_noise[att_type] = np.array(data['Z'])\n",
    "\n",
    "Z_noise = dict(sorted(Z_noise.items()))"
   ]
  },
  {
   "cell_type": "code",
   "execution_count": 11,
   "metadata": {},
   "outputs": [],
   "source": [
    "# sample random times after norm_operation_win to add in Z\n",
    "noise_time = np.random.choice(list(range(norm_operation_win, T)), size=noise_size, replace=False)\n",
    "# sample attack types to sample a noise\n",
    "noise_to_add_from = np.random.choice(list(Z_noise.keys()), size=noise_size, replace=True).tolist()\n",
    "random.shuffle(noise_to_add_from)\n",
    "# randomly select noises from attack types\n",
    "noises = []\n",
    "for typ in noise_to_add_from:\n",
    "    noise_id = random.sample(range(T), 1)\n",
    "    noises.append(Z_noise[typ][noise_id])\n",
    "random.shuffle(noises)\n",
    "noises = np.concatenate(noises, axis=0)\n",
    "# add noises to original sensor data Z\n",
    "Z[noise_time] = noises\n",
    "Z = torch.tensor(Z, dtype=torch.float32).to(device)\n"
   ]
  },
  {
   "cell_type": "code",
   "execution_count": 12,
   "metadata": {},
   "outputs": [],
   "source": [
    "vae.eval()\n",
    "Z_enc = vae.encoder(Z)\n",
    "Z_supervised = series_to_supervised(Z_enc.cpu().detach().numpy(), n_in=rnn_window)\n",
    "Z_supervised = Z_supervised.values\n",
    "X, y = Z_supervised[:,:rnn_window * latent_dim], Z_supervised[:, rnn_window * latent_dim:]\n",
    "train_size = int(len(X) * 0.8)\n",
    "X_train, X_test = X[:train_size], X[train_size:]\n",
    "y_train, y_test = y[:train_size], y[train_size:]\n",
    "training = RNNDataset(X_train, y_train)\n",
    "test = RNNDataset(X_test, y_test)\n",
    "train_dl = DataLoader(training, batch_size=batch_size, shuffle=True)\n",
    "test_dl = DataLoader(test)"
   ]
  },
  {
   "cell_type": "code",
   "execution_count": 13,
   "metadata": {},
   "outputs": [
    {
     "name": "stdout",
     "output_type": "stream",
     "text": [
      "Device:  cpu\n"
     ]
    }
   ],
   "source": [
    "trainer = RNNTrainer(input_dim=rnn_window * latent_dim, \n",
    "                     outputdims = latent_dim,\n",
    "                     hidden_dim=hidden_size,\n",
    "                     num_layers=num_layers,\n",
    "                     lr=lr,\n",
    "                     lr_scheduler=scheduler,\n",
    "                     es_patience=es_patience,\n",
    "                     checkpoint_name=f'rnn_{int(noise_percent*100)}%.pt',\n",
    "                     seed=13)"
   ]
  },
  {
   "cell_type": "code",
   "execution_count": 14,
   "metadata": {},
   "outputs": [
    {
     "name": "stderr",
     "output_type": "stream",
     "text": [
      "c:\\Users\\naftabi\\AppData\\Local\\anaconda3\\envs\\torch\\Lib\\site-packages\\torch\\nn\\modules\\rnn.py:812: UserWarning: LSTM with projections is not supported with oneDNN. Using default implementation. (Triggered internally at C:\\cb\\pytorch_1000000000000\\work\\aten\\src\\ATen\\native\\RNN.cpp:1464.)\n",
      "  result = _VF.lstm(input, hx, self._flat_weights, self.bias, self.num_layers,\n"
     ]
    },
    {
     "data": {
      "text/plain": [
       "==========================================================================================\n",
       "Layer (type:depth-idx)                   Output Shape              Param #\n",
       "==========================================================================================\n",
       "RNN                                      [1, 118]                  --\n",
       "├─LSTM: 1-1                              [1, 50]                   543,600\n",
       "├─Linear: 1-2                            [1, 118]                  6,018\n",
       "==========================================================================================\n",
       "Total params: 549,618\n",
       "Trainable params: 549,618\n",
       "Non-trainable params: 0\n",
       "Total mult-adds (Units.MEGABYTES): 27.19\n",
       "==========================================================================================\n",
       "Input size (MB): 0.00\n",
       "Forward/backward pass size (MB): 0.00\n",
       "Params size (MB): 2.20\n",
       "Estimated Total Size (MB): 2.20\n",
       "=========================================================================================="
      ]
     },
     "execution_count": 14,
     "metadata": {},
     "output_type": "execute_result"
    }
   ],
   "source": [
    "summary(trainer.rnn, (1, rnn_window * latent_dim))"
   ]
  },
  {
   "cell_type": "code",
   "execution_count": 15,
   "metadata": {},
   "outputs": [
    {
     "name": "stdout",
     "output_type": "stream",
     "text": [
      "Epoch 1/1000: [MSE: 96.9894], [Val_MSE: 133.9800], \n",
      "Validation loss decreased (inf --> 133.980006).  Saving model ...\n",
      "Epoch 2/1000: [MSE: 65.9710], [Val_MSE: 9.7093], \n",
      "Validation loss decreased (133.980006 --> 9.709321).  Saving model ...\n",
      "Epoch 3/1000: [MSE: 275.8146], [Val_MSE: 193.1960], \n",
      "EarlyStopping counter: 1 out of 10\n",
      "Epoch 4/1000: [MSE: 81.0573], [Val_MSE: 158.1459], \n",
      "EarlyStopping counter: 2 out of 10\n",
      "Epoch 5/1000: [MSE: 269.8123], [Val_MSE: 4.9153], \n",
      "Validation loss decreased (9.709321 --> 4.915276).  Saving model ...\n",
      "Epoch 6/1000: [MSE: 4.9226], [Val_MSE: 2.0843], \n",
      "Validation loss decreased (4.915276 --> 2.084343).  Saving model ...\n",
      "Epoch 7/1000: [MSE: 2.8389], [Val_MSE: 1.5782], \n",
      "Validation loss decreased (2.084343 --> 1.578198).  Saving model ...\n",
      "Epoch 8/1000: [MSE: 24.1000], [Val_MSE: 18.3816], \n",
      "EarlyStopping counter: 1 out of 10\n",
      "Epoch 9/1000: [MSE: 12.5192], [Val_MSE: 5.8499], \n",
      "EarlyStopping counter: 2 out of 10\n",
      "Epoch 10/1000: [MSE: 90.0611], [Val_MSE: 51.1906], \n",
      "EarlyStopping counter: 3 out of 10\n",
      "Epoch 11/1000: [MSE: 185.1388], [Val_MSE: 429.4238], \n",
      "EarlyStopping counter: 4 out of 10\n",
      "Epoch 12/1000: [MSE: 2289.5179], [Val_MSE: 379.9538], \n",
      "EarlyStopping counter: 5 out of 10\n",
      "Epoch 13/1000: [MSE: 461.2259], [Val_MSE: 11.7898], \n",
      "EarlyStopping counter: 6 out of 10\n",
      "Epoch 14/1000: [MSE: 17.9955], [Val_MSE: 5.5546], \n",
      "EarlyStopping counter: 7 out of 10\n",
      "Epoch 15/1000: [MSE: 2.1825], [Val_MSE: 1.7845], \n",
      "EarlyStopping counter: 8 out of 10\n",
      "Epoch 16/1000: [MSE: 1.5707], [Val_MSE: 1.4958], \n",
      "Validation loss decreased (1.578198 --> 1.495766).  Saving model ...\n",
      "Epoch 17/1000: [MSE: 1.2887], [Val_MSE: 1.3419], \n",
      "Validation loss decreased (1.495766 --> 1.341850).  Saving model ...\n",
      "Epoch 18/1000: [MSE: 1.1740], [Val_MSE: 1.1860], \n",
      "Validation loss decreased (1.341850 --> 1.186044).  Saving model ...\n",
      "Epoch 19/1000: [MSE: 1.0593], [Val_MSE: 1.1059], \n",
      "Validation loss decreased (1.186044 --> 1.105928).  Saving model ...\n",
      "Epoch 20/1000: [MSE: 0.9967], [Val_MSE: 1.0024], \n",
      "Validation loss decreased (1.105928 --> 1.002414).  Saving model ...\n",
      "Epoch 21/1000: [MSE: 0.9215], [Val_MSE: 0.9156], \n",
      "Validation loss decreased (1.002414 --> 0.915561).  Saving model ...\n",
      "Epoch 22/1000: [MSE: 0.8558], [Val_MSE: 0.8554], \n",
      "Validation loss decreased (0.915561 --> 0.855353).  Saving model ...\n",
      "Epoch 23/1000: [MSE: 0.8250], [Val_MSE: 0.8116], \n",
      "Validation loss decreased (0.855353 --> 0.811605).  Saving model ...\n",
      "Epoch 24/1000: [MSE: 0.7937], [Val_MSE: 0.7795], \n",
      "Validation loss decreased (0.811605 --> 0.779478).  Saving model ...\n",
      "Epoch 25/1000: [MSE: 0.7660], [Val_MSE: 0.7422], \n",
      "Validation loss decreased (0.779478 --> 0.742211).  Saving model ...\n",
      "Epoch 26/1000: [MSE: 0.7610], [Val_MSE: 0.7185], \n",
      "Validation loss decreased (0.742211 --> 0.718511).  Saving model ...\n",
      "Epoch 27/1000: [MSE: 0.8322], [Val_MSE: 0.7088], \n",
      "Validation loss decreased (0.718511 --> 0.708792).  Saving model ...\n",
      "Epoch 28/1000: [MSE: 0.7989], [Val_MSE: 0.7360], \n",
      "EarlyStopping counter: 1 out of 10\n",
      "Epoch 29/1000: [MSE: 0.7634], [Val_MSE: 0.6886], \n",
      "Validation loss decreased (0.708792 --> 0.688590).  Saving model ...\n",
      "Epoch 30/1000: [MSE: 0.8996], [Val_MSE: 0.7189], \n",
      "EarlyStopping counter: 1 out of 10\n",
      "Epoch 31/1000: [MSE: 0.9371], [Val_MSE: 0.7282], \n",
      "EarlyStopping counter: 2 out of 10\n",
      "Epoch 32/1000: [MSE: 0.8833], [Val_MSE: 0.7336], \n",
      "EarlyStopping counter: 3 out of 10\n",
      "Epoch 33/1000: [MSE: 0.9178], [Val_MSE: 0.6797], \n",
      "Validation loss decreased (0.688590 --> 0.679687).  Saving model ...\n",
      "Epoch 34/1000: [MSE: 1.1212], [Val_MSE: 0.7477], \n",
      "EarlyStopping counter: 1 out of 10\n",
      "Epoch 35/1000: [MSE: 0.9840], [Val_MSE: 0.8597], \n",
      "EarlyStopping counter: 2 out of 10\n",
      "Epoch 36/1000: [MSE: 0.9214], [Val_MSE: 1.0003], \n",
      "EarlyStopping counter: 3 out of 10\n",
      "Epoch 37/1000: [MSE: 1.3486], [Val_MSE: 0.8344], \n",
      "EarlyStopping counter: 4 out of 10\n",
      "Epoch 38/1000: [MSE: 1.4319], [Val_MSE: 0.8923], \n",
      "EarlyStopping counter: 5 out of 10\n",
      "Epoch 39/1000: [MSE: 1.5053], [Val_MSE: 1.6145], \n",
      "EarlyStopping counter: 6 out of 10\n",
      "Epoch 40/1000: [MSE: 1.7546], [Val_MSE: 1.2535], \n",
      "EarlyStopping counter: 7 out of 10\n",
      "Epoch 41/1000: [MSE: 0.6386], [Val_MSE: 0.5543], \n",
      "Validation loss decreased (0.679687 --> 0.554327).  Saving model ...\n",
      "Epoch 42/1000: [MSE: 0.5665], [Val_MSE: 0.5545], \n",
      "EarlyStopping counter: 1 out of 10\n",
      "Epoch 43/1000: [MSE: 0.5649], [Val_MSE: 0.5477], \n",
      "Validation loss decreased (0.554327 --> 0.547750).  Saving model ...\n",
      "Epoch 44/1000: [MSE: 0.5734], [Val_MSE: 0.5575], \n",
      "EarlyStopping counter: 1 out of 10\n",
      "Epoch 45/1000: [MSE: 0.5829], [Val_MSE: 0.5541], \n",
      "EarlyStopping counter: 2 out of 10\n",
      "Epoch 46/1000: [MSE: 0.5839], [Val_MSE: 0.5539], \n",
      "EarlyStopping counter: 3 out of 10\n",
      "Epoch 47/1000: [MSE: 0.5895], [Val_MSE: 0.5751], \n",
      "EarlyStopping counter: 4 out of 10\n",
      "Epoch 48/1000: [MSE: 0.6033], [Val_MSE: 0.5722], \n",
      "EarlyStopping counter: 5 out of 10\n",
      "Epoch 49/1000: [MSE: 0.6319], [Val_MSE: 0.5848], \n",
      "EarlyStopping counter: 6 out of 10\n",
      "Epoch 50/1000: [MSE: 0.6317], [Val_MSE: 0.5831], \n",
      "EarlyStopping counter: 7 out of 10\n",
      "Epoch 51/1000: [MSE: 0.5357], [Val_MSE: 0.5232], \n",
      "Validation loss decreased (0.547750 --> 0.523195).  Saving model ...\n",
      "Epoch 52/1000: [MSE: 0.5276], [Val_MSE: 0.5246], \n",
      "EarlyStopping counter: 1 out of 10\n",
      "Epoch 53/1000: [MSE: 0.5286], [Val_MSE: 0.5247], \n",
      "EarlyStopping counter: 2 out of 10\n",
      "Epoch 54/1000: [MSE: 0.5290], [Val_MSE: 0.5241], \n",
      "EarlyStopping counter: 3 out of 10\n",
      "Epoch 55/1000: [MSE: 0.5313], [Val_MSE: 0.5275], \n",
      "EarlyStopping counter: 4 out of 10\n",
      "Epoch 56/1000: [MSE: 0.5329], [Val_MSE: 0.5253], \n",
      "EarlyStopping counter: 5 out of 10\n",
      "Epoch 57/1000: [MSE: 0.5349], [Val_MSE: 0.5284], \n",
      "EarlyStopping counter: 6 out of 10\n",
      "Epoch 58/1000: [MSE: 0.5370], [Val_MSE: 0.5276], \n",
      "EarlyStopping counter: 7 out of 10\n",
      "Epoch 59/1000: [MSE: 0.5160], [Val_MSE: 0.5142], \n",
      "Validation loss decreased (0.523195 --> 0.514150).  Saving model ...\n",
      "Epoch 60/1000: [MSE: 0.5137], [Val_MSE: 0.5140], \n",
      "Validation loss decreased (0.514150 --> 0.513956).  Saving model ...\n",
      "Epoch 61/1000: [MSE: 0.5138], [Val_MSE: 0.5132], \n",
      "Validation loss decreased (0.513956 --> 0.513169).  Saving model ...\n",
      "Epoch 62/1000: [MSE: 0.5139], [Val_MSE: 0.5145], \n",
      "EarlyStopping counter: 1 out of 10\n",
      "Epoch 63/1000: [MSE: 0.5138], [Val_MSE: 0.5135], \n",
      "EarlyStopping counter: 2 out of 10\n",
      "Epoch 64/1000: [MSE: 0.5142], [Val_MSE: 0.5146], \n",
      "EarlyStopping counter: 3 out of 10\n",
      "Epoch 65/1000: [MSE: 0.5143], [Val_MSE: 0.5155], \n",
      "EarlyStopping counter: 4 out of 10\n",
      "Epoch 66/1000: [MSE: 0.5152], [Val_MSE: 0.5140], \n",
      "EarlyStopping counter: 5 out of 10\n",
      "Epoch 67/1000: [MSE: 0.5157], [Val_MSE: 0.5143], \n",
      "EarlyStopping counter: 6 out of 10\n",
      "Epoch 68/1000: [MSE: 0.5155], [Val_MSE: 0.5153], \n",
      "EarlyStopping counter: 7 out of 10\n",
      "Epoch 69/1000: [MSE: 0.5106], [Val_MSE: 0.5114], \n",
      "Validation loss decreased (0.513169 --> 0.511429).  Saving model ...\n",
      "Epoch 70/1000: [MSE: 0.5098], [Val_MSE: 0.5112], \n",
      "Validation loss decreased (0.511429 --> 0.511188).  Saving model ...\n",
      "Epoch 71/1000: [MSE: 0.5097], [Val_MSE: 0.5109], \n",
      "Validation loss decreased (0.511188 --> 0.510923).  Saving model ...\n",
      "Epoch 72/1000: [MSE: 0.5097], [Val_MSE: 0.5109], \n",
      "EarlyStopping counter: 1 out of 10\n",
      "Epoch 73/1000: [MSE: 0.5099], [Val_MSE: 0.5109], \n",
      "Validation loss decreased (0.510923 --> 0.510911).  Saving model ...\n",
      "Epoch 74/1000: [MSE: 0.5097], [Val_MSE: 0.5108], \n",
      "Validation loss decreased (0.510911 --> 0.510806).  Saving model ...\n",
      "Epoch 75/1000: [MSE: 0.5100], [Val_MSE: 0.5110], \n",
      "EarlyStopping counter: 1 out of 10\n",
      "Epoch 76/1000: [MSE: 0.5098], [Val_MSE: 0.5114], \n",
      "EarlyStopping counter: 2 out of 10\n",
      "Epoch 77/1000: [MSE: 0.5102], [Val_MSE: 0.5108], \n",
      "Validation loss decreased (0.510806 --> 0.510777).  Saving model ...\n",
      "Epoch 78/1000: [MSE: 0.5097], [Val_MSE: 0.5114], \n",
      "EarlyStopping counter: 1 out of 10\n",
      "Epoch 79/1000: [MSE: 0.5103], [Val_MSE: 0.5119], \n",
      "EarlyStopping counter: 2 out of 10\n",
      "Epoch 80/1000: [MSE: 0.5100], [Val_MSE: 0.5117], \n",
      "EarlyStopping counter: 3 out of 10\n",
      "Epoch 81/1000: [MSE: 0.5103], [Val_MSE: 0.5115], \n",
      "EarlyStopping counter: 4 out of 10\n",
      "Epoch 82/1000: [MSE: 0.5099], [Val_MSE: 0.5114], \n",
      "EarlyStopping counter: 5 out of 10\n",
      "Epoch 83/1000: [MSE: 0.5100], [Val_MSE: 0.5111], \n",
      "EarlyStopping counter: 6 out of 10\n",
      "Epoch 84/1000: [MSE: 0.5104], [Val_MSE: 0.5118], \n",
      "EarlyStopping counter: 7 out of 10\n",
      "Epoch 85/1000: [MSE: 0.5103], [Val_MSE: 0.5107], \n",
      "Validation loss decreased (0.510777 --> 0.510729).  Saving model ...\n",
      "Epoch 86/1000: [MSE: 0.5103], [Val_MSE: 0.5115], \n",
      "EarlyStopping counter: 1 out of 10\n",
      "Epoch 87/1000: [MSE: 0.5103], [Val_MSE: 0.5111], \n",
      "EarlyStopping counter: 2 out of 10\n",
      "Epoch 88/1000: [MSE: 0.5102], [Val_MSE: 0.5112], \n",
      "EarlyStopping counter: 3 out of 10\n",
      "Epoch 89/1000: [MSE: 0.5100], [Val_MSE: 0.5116], \n",
      "EarlyStopping counter: 4 out of 10\n",
      "Epoch 90/1000: [MSE: 0.5101], [Val_MSE: 0.5105], \n",
      "Validation loss decreased (0.510729 --> 0.510503).  Saving model ...\n",
      "Epoch 91/1000: [MSE: 0.5101], [Val_MSE: 0.5110], \n",
      "EarlyStopping counter: 1 out of 10\n",
      "Epoch 92/1000: [MSE: 0.5102], [Val_MSE: 0.5109], \n",
      "EarlyStopping counter: 2 out of 10\n",
      "Epoch 93/1000: [MSE: 0.5102], [Val_MSE: 0.5114], \n",
      "EarlyStopping counter: 3 out of 10\n",
      "Epoch 94/1000: [MSE: 0.5102], [Val_MSE: 0.5109], \n",
      "EarlyStopping counter: 4 out of 10\n",
      "Epoch 95/1000: [MSE: 0.5104], [Val_MSE: 0.5106], \n",
      "EarlyStopping counter: 5 out of 10\n",
      "Epoch 96/1000: [MSE: 0.5101], [Val_MSE: 0.5116], \n",
      "EarlyStopping counter: 6 out of 10\n",
      "Epoch 97/1000: [MSE: 0.5100], [Val_MSE: 0.5108], \n",
      "EarlyStopping counter: 7 out of 10\n",
      "Epoch 98/1000: [MSE: 0.5102], [Val_MSE: 0.5107], \n",
      "EarlyStopping counter: 8 out of 10\n",
      "Epoch 99/1000: [MSE: 0.5099], [Val_MSE: 0.5104], \n",
      "Validation loss decreased (0.510503 --> 0.510360).  Saving model ...\n",
      "Epoch 100/1000: [MSE: 0.5104], [Val_MSE: 0.5108], \n",
      "EarlyStopping counter: 1 out of 10\n",
      "Epoch 101/1000: [MSE: 0.5104], [Val_MSE: 0.5111], \n",
      "EarlyStopping counter: 2 out of 10\n",
      "Epoch 102/1000: [MSE: 0.5100], [Val_MSE: 0.5103], \n",
      "Validation loss decreased (0.510360 --> 0.510343).  Saving model ...\n",
      "Epoch 103/1000: [MSE: 0.5101], [Val_MSE: 0.5111], \n",
      "EarlyStopping counter: 1 out of 10\n",
      "Epoch 104/1000: [MSE: 0.5101], [Val_MSE: 0.5107], \n",
      "EarlyStopping counter: 2 out of 10\n",
      "Epoch 105/1000: [MSE: 0.5099], [Val_MSE: 0.5111], \n",
      "EarlyStopping counter: 3 out of 10\n",
      "Epoch 106/1000: [MSE: 0.5100], [Val_MSE: 0.5104], \n",
      "EarlyStopping counter: 4 out of 10\n",
      "Epoch 107/1000: [MSE: 0.5102], [Val_MSE: 0.5110], \n",
      "EarlyStopping counter: 5 out of 10\n",
      "Epoch 108/1000: [MSE: 0.5101], [Val_MSE: 0.5110], \n",
      "EarlyStopping counter: 6 out of 10\n",
      "Epoch 109/1000: [MSE: 0.5101], [Val_MSE: 0.5105], \n",
      "EarlyStopping counter: 7 out of 10\n",
      "Epoch 110/1000: [MSE: 0.5102], [Val_MSE: 0.5107], \n",
      "EarlyStopping counter: 8 out of 10\n",
      "Epoch 111/1000: [MSE: 0.5100], [Val_MSE: 0.5107], \n",
      "EarlyStopping counter: 9 out of 10\n",
      "Epoch 112/1000: [MSE: 0.5098], [Val_MSE: 0.5106], \n",
      "EarlyStopping counter: 10 out of 10\n",
      "Early stopping!\n"
     ]
    }
   ],
   "source": [
    "rnn, mse, val_mse = trainer.train(train_dl=train_dl,\n",
    "                                  test_dl=test_dl,\n",
    "                                  epochs=epochs)"
   ]
  },
  {
   "cell_type": "code",
   "execution_count": 16,
   "metadata": {},
   "outputs": [],
   "source": [
    "def plot_learning(mse, val_mse):\n",
    "    fig, axs = plt.subplots(figsize=(8,4))\n",
    "    axs.plot(mse, color='r', label='Training')\n",
    "    axs.plot(val_mse, color='b', label='Validation')\n",
    "    axs.set_title('MSE vs. Validation MSE')\n",
    "    plt.legend()\n",
    "    # plt.savefig('./img/mrnntraining.pdf', format='pdf', dpi=1200)\n",
    "    plt.show()"
   ]
  },
  {
   "cell_type": "code",
   "execution_count": 17,
   "metadata": {},
   "outputs": [
    {
     "data": {
      "image/png": "[encoded data removed]",
      "text/plain": [
       "<Figure size 800x400 with 1 Axes>"
      ]
     },
     "metadata": {},
     "output_type": "display_data"
    }
   ],
   "source": [
    "plot_learning(mse, val_mse)"
   ]
  },
  {
   "cell_type": "code",
   "execution_count": 18,
   "metadata": {},
   "outputs": [],
   "source": [
    "zz0 = torch.tensor(X_test[-3:-1,:], dtype=torch.float32).to(device)\n",
    "rnn.eval()\n",
    "zz = rnn(zz0)\n",
    "s_rec = vae.decoder(zz)"
   ]
  },
  {
   "cell_type": "code",
   "execution_count": 19,
   "metadata": {},
   "outputs": [
    {
     "data": {
      "image/png": "[encoded data removed]",
      "text/plain": [
       "<Figure size 800x400 with 1 Axes>"
      ]
     },
     "metadata": {},
     "output_type": "display_data"
    }
   ],
   "source": [
    "fig, axs = plt.subplots(figsize=(8,4))\n",
    "axs.plot(np.transpose(Z.cpu().detach().numpy()[-1,:]), label='True')\n",
    "axs.plot(np.transpose(s_rec[0,:].cpu().detach().numpy()), label='Prediction')\n",
    "axs.set_title('Original Signals')\n",
    "plt.legend()\n",
    "plt.show()"
   ]
  },
  {
   "cell_type": "code",
   "execution_count": 20,
   "metadata": {},
   "outputs": [
    {
     "data": {
      "image/png": "[encoded data removed]",
      "text/plain": [
       "<Figure size 800x400 with 1 Axes>"
      ]
     },
     "metadata": {},
     "output_type": "display_data"
    }
   ],
   "source": [
    "fig, axs = plt.subplots(figsize=(8,4))\n",
    "axs.plot(np.transpose(s_rec.cpu().detach().numpy()))\n",
    "axs.set_title('Next Step Signals')\n",
    "plt.show()"
   ]
  },
  {
   "cell_type": "code",
   "execution_count": null,
   "metadata": {},
   "outputs": [],
   "source": []
  }
 ],
 "metadata": {
  "kernelspec": {
   "display_name": "torch",
   "language": "python",
   "name": "python3"
  },
  "language_info": {
   "codemirror_mode": {
    "name": "ipython",
    "version": 3
   },
   "file_extension": ".py",
   "mimetype": "text/x-python",
   "name": "python",
   "nbconvert_exporter": "python",
   "pygments_lexer": "ipython3",
   "version": "3.11.3"
  },
  "orig_nbformat": 4
 },
 "nbformat": 4,
 "nbformat_minor": 2
}
