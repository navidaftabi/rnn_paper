{
 "cells": [
  {
   "cell_type": "code",
   "execution_count": 1,
   "metadata": {},
   "outputs": [],
   "source": [
    "noise_type = 7\n",
    "noise_percent = 0.10"
   ]
  },
  {
   "cell_type": "code",
   "execution_count": 2,
   "metadata": {},
   "outputs": [],
   "source": [
    "import os\n",
    "import re\n",
    "import random\n",
    "import numpy as np\n",
    "from tqdm import tqdm\n",
    "from scipy.io import loadmat\n",
    "import matplotlib.pyplot as plt\n",
    "from pandas import DataFrame, concat\n",
    "\n",
    "import torch\n",
    "from torchinfo import summary\n",
    "from torch.utils.data import DataLoader\n",
    "\n",
    "from models.vae import VAE\n",
    "from models.rnn_trainer import RNNTrainer"
   ]
  },
  {
   "cell_type": "code",
   "execution_count": 3,
   "metadata": {},
   "outputs": [],
   "source": [
    "DATASET_PATH = os.path.join(os.getcwd(), 'data')\n",
    "# Path to the folder where the pretrained models are saved\n",
    "CHECKPOINT_PATH = os.path.join(os.getcwd(), 'checkpoints')"
   ]
  },
  {
   "cell_type": "code",
   "execution_count": 4,
   "metadata": {},
   "outputs": [],
   "source": [
    "seed = 13\n",
    "# seed = 23\n",
    "torch.manual_seed(seed)\n",
    "# torch.cuda.manual_seed(seed)\n",
    "# torch.cuda.manual_seed_all(seed)\n",
    "# torch.backends.cudnn.deterministic = True\n",
    "device = 'cuda' if torch.cuda.is_available() else 'cpu'"
   ]
  },
  {
   "cell_type": "code",
   "execution_count": 5,
   "metadata": {},
   "outputs": [],
   "source": [
    "class RNNDataset():\n",
    "    def __init__(self, x, y):\n",
    "        self.x = x\n",
    "        self.y = y\n",
    "    \n",
    "    def __len__(self):\n",
    "        return len(self.y)\n",
    "    \n",
    "    def __getitem__(self, idx):\n",
    "        return self.x[idx], self.y[idx]"
   ]
  },
  {
   "cell_type": "code",
   "execution_count": 6,
   "metadata": {},
   "outputs": [],
   "source": [
    "def series_to_supervised(data, n_in=1, n_out=1, dropnan=True):\n",
    "    n_vars = 1 if type(data) is list else data.shape[1]\n",
    "    df = DataFrame(data)\n",
    "    cols, names = list(), list()\n",
    "    # input sequence (t-n, ... t-1)\n",
    "    for i in range(n_in, 0, -1):\n",
    "        cols.append(df.shift(i))\n",
    "        names += [('var%d(t-%d)' % (j+1, i)) for j in range(n_vars)]\n",
    "    # forecast sequence (t, t+1, ... t+n)\n",
    "    for i in range(0, n_out):\n",
    "        cols.append(df.shift(-i))\n",
    "        if i == 0:\n",
    "            names += [('var%d(t)' % (j+1)) for j in range(n_vars)]\n",
    "        else:\n",
    "            names += [('var%d(t+%d)' % (j+1, i)) for j in range(n_vars)]\n",
    "    # put it all together\n",
    "    agg = concat(cols, axis=1)\n",
    "    agg.columns = names\n",
    "    # drop rows with NaN values\n",
    "    if dropnan:\n",
    "        agg.dropna(inplace=True)\n",
    "    return agg"
   ]
  },
  {
   "cell_type": "code",
   "execution_count": 7,
   "metadata": {},
   "outputs": [],
   "source": [
    "latent_dim = 118\n",
    "hidden_size = 100\n",
    "num_layers = 2\n",
    "batch_size = 16\n",
    "rnn_window = 10\n",
    "epochs = 1000\n",
    "lr = 1e-1\n",
    "scheduler = True\n",
    "es_patience = 10"
   ]
  },
  {
   "cell_type": "code",
   "execution_count": 8,
   "metadata": {},
   "outputs": [],
   "source": [
    "data_filename = 'Normal1.mat'\n",
    "data = loadmat(os.path.join(DATASET_PATH, data_filename))\n",
    "Z = data['Z']\n",
    "T = len(Z)"
   ]
  },
  {
   "cell_type": "code",
   "execution_count": 9,
   "metadata": {},
   "outputs": [
    {
     "data": {
      "text/plain": [
       "<All keys matched successfully>"
      ]
     },
     "execution_count": 9,
     "metadata": {},
     "output_type": "execute_result"
    }
   ],
   "source": [
    "vae = VAE(latent_dim).to(device)\n",
    "vae.load_state_dict(torch.load(os.path.join(CHECKPOINT_PATH, f'vae_{int(noise_percent*100)}%.pt')))"
   ]
  },
  {
   "cell_type": "code",
   "execution_count": 10,
   "metadata": {},
   "outputs": [
    {
     "name": "stderr",
     "output_type": "stream",
     "text": [
      "Reading noise data ... : 100%|██████████| 3/3 [00:00<00:00,  6.54it/s]\n"
     ]
    }
   ],
   "source": [
    "# read attack noise\n",
    "noise_size = int(T * noise_percent)\n",
    "norm_operation_win = 50\n",
    "NOISE_PATH = os.path.join(DATASET_PATH, f'I{noise_type}')\n",
    "Z_noise = dict()\n",
    "for filename in tqdm(os.listdir(NOISE_PATH), desc='Reading noise data ... '):\n",
    "    fname = os.path.join(NOISE_PATH, filename)\n",
    "    data = loadmat(fname)\n",
    "    att_type = int(re.findall(r'\\d+', filename)[0])\n",
    "    Z_noise[att_type] = np.array(data['Z'])\n",
    "\n",
    "Z_noise = dict(sorted(Z_noise.items()))"
   ]
  },
  {
   "cell_type": "code",
   "execution_count": 11,
   "metadata": {},
   "outputs": [],
   "source": [
    "# sample random times after norm_operation_win to add in Z\n",
    "noise_time = np.random.choice(list(range(norm_operation_win, T)), size=noise_size, replace=False)\n",
    "# sample attack types to sample a noise\n",
    "noise_to_add_from = np.random.choice(list(Z_noise.keys()), size=noise_size, replace=True).tolist()\n",
    "random.shuffle(noise_to_add_from)\n",
    "# randomly select noises from attack types\n",
    "noises = []\n",
    "for typ in noise_to_add_from:\n",
    "    noise_id = random.sample(range(T), 1)\n",
    "    noises.append(Z_noise[typ][noise_id])\n",
    "random.shuffle(noises)\n",
    "noises = np.concatenate(noises, axis=0)\n",
    "# add noises to original sensor data Z\n",
    "Z[noise_time] = noises\n",
    "Z = torch.tensor(Z, dtype=torch.float32).to(device)\n"
   ]
  },
  {
   "cell_type": "code",
   "execution_count": 12,
   "metadata": {},
   "outputs": [],
   "source": [
    "vae.eval()\n",
    "Z_enc = vae.encoder(Z)\n",
    "Z_supervised = series_to_supervised(Z_enc.cpu().detach().numpy(), n_in=rnn_window)\n",
    "Z_supervised = Z_supervised.values\n",
    "X, y = Z_supervised[:,:rnn_window * latent_dim], Z_supervised[:, rnn_window * latent_dim:]\n",
    "train_size = int(len(X) * 0.8)\n",
    "X_train, X_test = X[:train_size], X[train_size:]\n",
    "y_train, y_test = y[:train_size], y[train_size:]\n",
    "training = RNNDataset(X_train, y_train)\n",
    "test = RNNDataset(X_test, y_test)\n",
    "train_dl = DataLoader(training, batch_size=batch_size, shuffle=True)\n",
    "test_dl = DataLoader(test)"
   ]
  },
  {
   "cell_type": "code",
   "execution_count": 13,
   "metadata": {},
   "outputs": [
    {
     "name": "stdout",
     "output_type": "stream",
     "text": [
      "Device:  cpu\n"
     ]
    }
   ],
   "source": [
    "trainer = RNNTrainer(input_dim=rnn_window * latent_dim, \n",
    "                     outputdims = latent_dim,\n",
    "                     hidden_dim=hidden_size,\n",
    "                     num_layers=num_layers,\n",
    "                     lr=lr,\n",
    "                     lr_scheduler=scheduler,\n",
    "                     es_patience=es_patience,\n",
    "                     checkpoint_name=f'rnn_{int(noise_percent*100)}%.pt',\n",
    "                     seed=13)"
   ]
  },
  {
   "cell_type": "code",
   "execution_count": 14,
   "metadata": {},
   "outputs": [
    {
     "name": "stderr",
     "output_type": "stream",
     "text": [
      "c:\\Users\\naftabi\\AppData\\Local\\anaconda3\\envs\\torch\\Lib\\site-packages\\torch\\nn\\modules\\rnn.py:812: UserWarning: LSTM with projections is not supported with oneDNN. Using default implementation. (Triggered internally at C:\\cb\\pytorch_1000000000000\\work\\aten\\src\\ATen\\native\\RNN.cpp:1464.)\n",
      "  result = _VF.lstm(input, hx, self._flat_weights, self.bias, self.num_layers,\n"
     ]
    },
    {
     "data": {
      "text/plain": [
       "==========================================================================================\n",
       "Layer (type:depth-idx)                   Output Shape              Param #\n",
       "==========================================================================================\n",
       "RNN                                      [1, 118]                  --\n",
       "├─LSTM: 1-1                              [1, 50]                   543,600\n",
       "├─Linear: 1-2                            [1, 118]                  6,018\n",
       "==========================================================================================\n",
       "Total params: 549,618\n",
       "Trainable params: 549,618\n",
       "Non-trainable params: 0\n",
       "Total mult-adds (Units.MEGABYTES): 27.19\n",
       "==========================================================================================\n",
       "Input size (MB): 0.00\n",
       "Forward/backward pass size (MB): 0.00\n",
       "Params size (MB): 2.20\n",
       "Estimated Total Size (MB): 2.20\n",
       "=========================================================================================="
      ]
     },
     "execution_count": 14,
     "metadata": {},
     "output_type": "execute_result"
    }
   ],
   "source": [
    "summary(trainer.rnn, (1, rnn_window * latent_dim))"
   ]
  },
  {
   "cell_type": "code",
   "execution_count": 15,
   "metadata": {},
   "outputs": [
    {
     "name": "stdout",
     "output_type": "stream",
     "text": [
      "Epoch 1/1000: [MSE: 41.5775], [Val_MSE: 19.6224], \n",
      "Validation loss decreased (inf --> 19.622410).  Saving model ...\n",
      "Epoch 2/1000: [MSE: 98.7685], [Val_MSE: 4.7473], \n",
      "Validation loss decreased (19.622410 --> 4.747323).  Saving model ...\n",
      "Epoch 3/1000: [MSE: 4.8691], [Val_MSE: 3.8475], \n",
      "Validation loss decreased (4.747323 --> 3.847451).  Saving model ...\n",
      "Epoch 4/1000: [MSE: 3.4786], [Val_MSE: 3.2143], \n",
      "Validation loss decreased (3.847451 --> 3.214253).  Saving model ...\n",
      "Epoch 5/1000: [MSE: 95.3625], [Val_MSE: 13.8085], \n",
      "EarlyStopping counter: 1 out of 10\n",
      "Epoch 6/1000: [MSE: 9.5355], [Val_MSE: 9.4918], \n",
      "EarlyStopping counter: 2 out of 10\n",
      "Epoch 7/1000: [MSE: 131.8425], [Val_MSE: 110.2983], \n",
      "EarlyStopping counter: 3 out of 10\n",
      "Epoch 8/1000: [MSE: 120.3887], [Val_MSE: 55.9811], \n",
      "EarlyStopping counter: 4 out of 10\n",
      "Epoch 9/1000: [MSE: 73.5969], [Val_MSE: 134.9150], \n",
      "EarlyStopping counter: 5 out of 10\n",
      "Epoch 10/1000: [MSE: 592.6199], [Val_MSE: 75.6452], \n",
      "EarlyStopping counter: 6 out of 10\n",
      "Epoch 11/1000: [MSE: 50.8588], [Val_MSE: 23.5472], \n",
      "EarlyStopping counter: 7 out of 10\n",
      "Epoch 12/1000: [MSE: 4.4490], [Val_MSE: 1.8200], \n",
      "Validation loss decreased (3.214253 --> 1.820040).  Saving model ...\n",
      "Epoch 13/1000: [MSE: 1.3502], [Val_MSE: 1.3557], \n",
      "Validation loss decreased (1.820040 --> 1.355707).  Saving model ...\n",
      "Epoch 14/1000: [MSE: 1.1227], [Val_MSE: 1.1109], \n",
      "Validation loss decreased (1.355707 --> 1.110900).  Saving model ...\n",
      "Epoch 15/1000: [MSE: 1.0017], [Val_MSE: 1.0400], \n",
      "Validation loss decreased (1.110900 --> 1.040009).  Saving model ...\n",
      "Epoch 16/1000: [MSE: 0.9037], [Val_MSE: 0.9273], \n",
      "Validation loss decreased (1.040009 --> 0.927267).  Saving model ...\n",
      "Epoch 17/1000: [MSE: 0.8379], [Val_MSE: 0.8725], \n",
      "Validation loss decreased (0.927267 --> 0.872460).  Saving model ...\n",
      "Epoch 18/1000: [MSE: 0.7942], [Val_MSE: 0.7959], \n",
      "Validation loss decreased (0.872460 --> 0.795913).  Saving model ...\n",
      "Epoch 19/1000: [MSE: 0.7848], [Val_MSE: 0.7823], \n",
      "Validation loss decreased (0.795913 --> 0.782341).  Saving model ...\n",
      "Epoch 20/1000: [MSE: 0.7640], [Val_MSE: 0.7596], \n",
      "Validation loss decreased (0.782341 --> 0.759636).  Saving model ...\n",
      "Epoch 21/1000: [MSE: 0.7921], [Val_MSE: 0.7206], \n",
      "Validation loss decreased (0.759636 --> 0.720570).  Saving model ...\n",
      "Epoch 22/1000: [MSE: 0.7780], [Val_MSE: 0.7189], \n",
      "Validation loss decreased (0.720570 --> 0.718902).  Saving model ...\n",
      "Epoch 23/1000: [MSE: 0.7849], [Val_MSE: 0.7088], \n",
      "Validation loss decreased (0.718902 --> 0.708827).  Saving model ...\n",
      "Epoch 24/1000: [MSE: 0.7719], [Val_MSE: 0.7131], \n",
      "EarlyStopping counter: 1 out of 10\n",
      "Epoch 25/1000: [MSE: 0.8753], [Val_MSE: 0.7221], \n",
      "EarlyStopping counter: 2 out of 10\n",
      "Epoch 26/1000: [MSE: 0.9321], [Val_MSE: 0.9778], \n",
      "EarlyStopping counter: 3 out of 10\n",
      "Epoch 27/1000: [MSE: 0.9393], [Val_MSE: 0.8449], \n",
      "EarlyStopping counter: 4 out of 10\n",
      "Epoch 28/1000: [MSE: 1.1204], [Val_MSE: 0.8430], \n",
      "EarlyStopping counter: 5 out of 10\n",
      "Epoch 29/1000: [MSE: 1.3390], [Val_MSE: 0.9376], \n",
      "EarlyStopping counter: 6 out of 10\n",
      "Epoch 30/1000: [MSE: 2.5682], [Val_MSE: 1.0274], \n",
      "EarlyStopping counter: 7 out of 10\n",
      "Epoch 31/1000: [MSE: 0.6585], [Val_MSE: 0.5721], \n",
      "Validation loss decreased (0.708827 --> 0.572051).  Saving model ...\n",
      "Epoch 32/1000: [MSE: 0.5684], [Val_MSE: 0.5585], \n",
      "Validation loss decreased (0.572051 --> 0.558502).  Saving model ...\n",
      "Epoch 33/1000: [MSE: 0.5651], [Val_MSE: 0.5548], \n",
      "Validation loss decreased (0.558502 --> 0.554790).  Saving model ...\n",
      "Epoch 34/1000: [MSE: 0.5705], [Val_MSE: 0.5543], \n",
      "Validation loss decreased (0.554790 --> 0.554326).  Saving model ...\n",
      "Epoch 35/1000: [MSE: 0.5734], [Val_MSE: 0.5631], \n",
      "EarlyStopping counter: 1 out of 10\n",
      "Epoch 36/1000: [MSE: 0.5802], [Val_MSE: 0.5594], \n",
      "EarlyStopping counter: 2 out of 10\n",
      "Epoch 37/1000: [MSE: 0.5922], [Val_MSE: 0.5675], \n",
      "EarlyStopping counter: 3 out of 10\n",
      "Epoch 38/1000: [MSE: 0.5992], [Val_MSE: 0.5808], \n",
      "EarlyStopping counter: 4 out of 10\n",
      "Epoch 39/1000: [MSE: 0.6076], [Val_MSE: 0.5857], \n",
      "EarlyStopping counter: 5 out of 10\n",
      "Epoch 40/1000: [MSE: 0.6123], [Val_MSE: 0.5722], \n",
      "EarlyStopping counter: 6 out of 10\n",
      "Epoch 41/1000: [MSE: 0.6249], [Val_MSE: 0.5917], \n",
      "EarlyStopping counter: 7 out of 10\n",
      "Epoch 42/1000: [MSE: 0.5331], [Val_MSE: 0.5256], \n",
      "Validation loss decreased (0.554326 --> 0.525605).  Saving model ...\n",
      "Epoch 43/1000: [MSE: 0.5269], [Val_MSE: 0.5264], \n",
      "EarlyStopping counter: 1 out of 10\n",
      "Epoch 44/1000: [MSE: 0.5277], [Val_MSE: 0.5254], \n",
      "Validation loss decreased (0.525605 --> 0.525378).  Saving model ...\n",
      "Epoch 45/1000: [MSE: 0.5297], [Val_MSE: 0.5263], \n",
      "EarlyStopping counter: 1 out of 10\n",
      "Epoch 46/1000: [MSE: 0.5309], [Val_MSE: 0.5271], \n",
      "EarlyStopping counter: 2 out of 10\n",
      "Epoch 47/1000: [MSE: 0.5315], [Val_MSE: 0.5289], \n",
      "EarlyStopping counter: 3 out of 10\n",
      "Epoch 48/1000: [MSE: 0.5350], [Val_MSE: 0.5307], \n",
      "EarlyStopping counter: 4 out of 10\n",
      "Epoch 49/1000: [MSE: 0.5361], [Val_MSE: 0.5311], \n",
      "EarlyStopping counter: 5 out of 10\n",
      "Epoch 50/1000: [MSE: 0.5398], [Val_MSE: 0.5314], \n",
      "EarlyStopping counter: 6 out of 10\n",
      "Epoch 51/1000: [MSE: 0.5385], [Val_MSE: 0.5315], \n",
      "EarlyStopping counter: 7 out of 10\n",
      "Epoch 52/1000: [MSE: 0.5170], [Val_MSE: 0.5153], \n",
      "Validation loss decreased (0.525378 --> 0.515328).  Saving model ...\n",
      "Epoch 53/1000: [MSE: 0.5133], [Val_MSE: 0.5155], \n",
      "EarlyStopping counter: 1 out of 10\n",
      "Epoch 54/1000: [MSE: 0.5136], [Val_MSE: 0.5146], \n",
      "Validation loss decreased (0.515328 --> 0.514615).  Saving model ...\n",
      "Epoch 55/1000: [MSE: 0.5136], [Val_MSE: 0.5153], \n",
      "EarlyStopping counter: 1 out of 10\n",
      "Epoch 56/1000: [MSE: 0.5142], [Val_MSE: 0.5160], \n",
      "EarlyStopping counter: 2 out of 10\n",
      "Epoch 57/1000: [MSE: 0.5144], [Val_MSE: 0.5160], \n",
      "EarlyStopping counter: 3 out of 10\n",
      "Epoch 58/1000: [MSE: 0.5151], [Val_MSE: 0.5149], \n",
      "EarlyStopping counter: 4 out of 10\n",
      "Epoch 59/1000: [MSE: 0.5149], [Val_MSE: 0.5156], \n",
      "EarlyStopping counter: 5 out of 10\n",
      "Epoch 60/1000: [MSE: 0.5150], [Val_MSE: 0.5165], \n",
      "EarlyStopping counter: 6 out of 10\n",
      "Epoch 61/1000: [MSE: 0.5153], [Val_MSE: 0.5162], \n",
      "EarlyStopping counter: 7 out of 10\n",
      "Epoch 62/1000: [MSE: 0.5104], [Val_MSE: 0.5122], \n",
      "Validation loss decreased (0.514615 --> 0.512157).  Saving model ...\n",
      "Epoch 63/1000: [MSE: 0.5095], [Val_MSE: 0.5123], \n",
      "EarlyStopping counter: 1 out of 10\n",
      "Epoch 64/1000: [MSE: 0.5093], [Val_MSE: 0.5120], \n",
      "Validation loss decreased (0.512157 --> 0.512035).  Saving model ...\n",
      "Epoch 65/1000: [MSE: 0.5092], [Val_MSE: 0.5122], \n",
      "EarlyStopping counter: 1 out of 10\n",
      "Epoch 66/1000: [MSE: 0.5093], [Val_MSE: 0.5122], \n",
      "EarlyStopping counter: 2 out of 10\n",
      "Epoch 67/1000: [MSE: 0.5093], [Val_MSE: 0.5125], \n",
      "EarlyStopping counter: 3 out of 10\n",
      "Epoch 68/1000: [MSE: 0.5097], [Val_MSE: 0.5120], \n",
      "EarlyStopping counter: 4 out of 10\n",
      "Epoch 69/1000: [MSE: 0.5093], [Val_MSE: 0.5120], \n",
      "Validation loss decreased (0.512035 --> 0.511998).  Saving model ...\n",
      "Epoch 70/1000: [MSE: 0.5097], [Val_MSE: 0.5118], \n",
      "Validation loss decreased (0.511998 --> 0.511843).  Saving model ...\n",
      "Epoch 71/1000: [MSE: 0.5099], [Val_MSE: 0.5115], \n",
      "Validation loss decreased (0.511843 --> 0.511510).  Saving model ...\n",
      "Epoch 72/1000: [MSE: 0.5093], [Val_MSE: 0.5120], \n",
      "EarlyStopping counter: 1 out of 10\n",
      "Epoch 73/1000: [MSE: 0.5096], [Val_MSE: 0.5118], \n",
      "EarlyStopping counter: 2 out of 10\n",
      "Epoch 74/1000: [MSE: 0.5096], [Val_MSE: 0.5120], \n",
      "EarlyStopping counter: 3 out of 10\n",
      "Epoch 75/1000: [MSE: 0.5099], [Val_MSE: 0.5117], \n",
      "EarlyStopping counter: 4 out of 10\n",
      "Epoch 76/1000: [MSE: 0.5095], [Val_MSE: 0.5116], \n",
      "EarlyStopping counter: 5 out of 10\n",
      "Epoch 77/1000: [MSE: 0.5097], [Val_MSE: 0.5117], \n",
      "EarlyStopping counter: 6 out of 10\n",
      "Epoch 78/1000: [MSE: 0.5096], [Val_MSE: 0.5116], \n",
      "EarlyStopping counter: 7 out of 10\n",
      "Epoch 79/1000: [MSE: 0.5095], [Val_MSE: 0.5121], \n",
      "EarlyStopping counter: 8 out of 10\n",
      "Epoch 80/1000: [MSE: 0.5097], [Val_MSE: 0.5114], \n",
      "Validation loss decreased (0.511510 --> 0.511441).  Saving model ...\n",
      "Epoch 81/1000: [MSE: 0.5095], [Val_MSE: 0.5113], \n",
      "Validation loss decreased (0.511441 --> 0.511326).  Saving model ...\n",
      "Epoch 82/1000: [MSE: 0.5095], [Val_MSE: 0.5116], \n",
      "EarlyStopping counter: 1 out of 10\n",
      "Epoch 83/1000: [MSE: 0.5091], [Val_MSE: 0.5117], \n",
      "EarlyStopping counter: 2 out of 10\n",
      "Epoch 84/1000: [MSE: 0.5098], [Val_MSE: 0.5117], \n",
      "EarlyStopping counter: 3 out of 10\n",
      "Epoch 85/1000: [MSE: 0.5097], [Val_MSE: 0.5116], \n",
      "EarlyStopping counter: 4 out of 10\n",
      "Epoch 86/1000: [MSE: 0.5093], [Val_MSE: 0.5114], \n",
      "EarlyStopping counter: 5 out of 10\n",
      "Epoch 87/1000: [MSE: 0.5094], [Val_MSE: 0.5118], \n",
      "EarlyStopping counter: 6 out of 10\n",
      "Epoch 88/1000: [MSE: 0.5094], [Val_MSE: 0.5115], \n",
      "EarlyStopping counter: 7 out of 10\n",
      "Epoch 89/1000: [MSE: 0.5097], [Val_MSE: 0.5114], \n",
      "EarlyStopping counter: 8 out of 10\n",
      "Epoch 90/1000: [MSE: 0.5094], [Val_MSE: 0.5112], \n",
      "Validation loss decreased (0.511326 --> 0.511234).  Saving model ...\n",
      "Epoch 91/1000: [MSE: 0.5094], [Val_MSE: 0.5116], \n",
      "EarlyStopping counter: 1 out of 10\n",
      "Epoch 92/1000: [MSE: 0.5088], [Val_MSE: 0.5115], \n",
      "EarlyStopping counter: 2 out of 10\n",
      "Epoch 93/1000: [MSE: 0.5094], [Val_MSE: 0.5115], \n",
      "EarlyStopping counter: 3 out of 10\n",
      "Epoch 94/1000: [MSE: 0.5096], [Val_MSE: 0.5114], \n",
      "EarlyStopping counter: 4 out of 10\n",
      "Epoch 95/1000: [MSE: 0.5094], [Val_MSE: 0.5116], \n",
      "EarlyStopping counter: 5 out of 10\n",
      "Epoch 96/1000: [MSE: 0.5092], [Val_MSE: 0.5117], \n",
      "EarlyStopping counter: 6 out of 10\n",
      "Epoch 97/1000: [MSE: 0.5092], [Val_MSE: 0.5118], \n",
      "EarlyStopping counter: 7 out of 10\n",
      "Epoch 98/1000: [MSE: 0.5091], [Val_MSE: 0.5118], \n",
      "EarlyStopping counter: 8 out of 10\n",
      "Epoch 99/1000: [MSE: 0.5092], [Val_MSE: 0.5120], \n",
      "EarlyStopping counter: 9 out of 10\n",
      "Epoch 100/1000: [MSE: 0.5092], [Val_MSE: 0.5116], \n",
      "EarlyStopping counter: 10 out of 10\n",
      "Early stopping!\n"
     ]
    }
   ],
   "source": [
    "rnn, mse, val_mse = trainer.train(train_dl=train_dl,\n",
    "                                  test_dl=test_dl,\n",
    "                                  epochs=epochs)"
   ]
  },
  {
   "cell_type": "code",
   "execution_count": 16,
   "metadata": {},
   "outputs": [],
   "source": [
    "def plot_learning(mse, val_mse):\n",
    "    fig, axs = plt.subplots(figsize=(8,4))\n",
    "    axs.plot(mse, color='r', label='Training')\n",
    "    axs.plot(val_mse, color='b', label='Validation')\n",
    "    axs.set_title('MSE vs. Validation MSE')\n",
    "    plt.legend()\n",
    "    # plt.savefig('./img/mrnntraining.pdf', format='pdf', dpi=1200)\n",
    "    plt.show()"
   ]
  },
  {
   "cell_type": "code",
   "execution_count": 17,
   "metadata": {},
   "outputs": [
    {
     "data": {
      "image/png": "[encoded data removed]",
      "text/plain": [
       "<Figure size 800x400 with 1 Axes>"
      ]
     },
     "metadata": {},
     "output_type": "display_data"
    }
   ],
   "source": [
    "plot_learning(mse, val_mse)"
   ]
  },
  {
   "cell_type": "code",
   "execution_count": 18,
   "metadata": {},
   "outputs": [],
   "source": [
    "zz0 = torch.tensor(X_test[-3:-1,:], dtype=torch.float32).to(device)\n",
    "rnn.eval()\n",
    "zz = rnn(zz0)\n",
    "s_rec = vae.decoder(zz)"
   ]
  },
  {
   "cell_type": "code",
   "execution_count": 19,
   "metadata": {},
   "outputs": [
    {
     "data": {
      "image/png": "[encoded data removed]",
      "text/plain": [
       "<Figure size 800x400 with 1 Axes>"
      ]
     },
     "metadata": {},
     "output_type": "display_data"
    }
   ],
   "source": [
    "fig, axs = plt.subplots(figsize=(8,4))\n",
    "axs.plot(np.transpose(Z.cpu().detach().numpy()[-1,:]), label='True')\n",
    "axs.plot(np.transpose(s_rec[0,:].cpu().detach().numpy()), label='Prediction')\n",
    "axs.set_title('Original Signals')\n",
    "plt.legend()\n",
    "plt.show()"
   ]
  },
  {
   "cell_type": "code",
   "execution_count": 20,
   "metadata": {},
   "outputs": [
    {
     "data": {
      "image/png": "[encoded data removed]",
      "text/plain": [
       "<Figure size 800x400 with 1 Axes>"
      ]
     },
     "metadata": {},
     "output_type": "display_data"
    }
   ],
   "source": [
    "fig, axs = plt.subplots(figsize=(8,4))\n",
    "axs.plot(np.transpose(s_rec.cpu().detach().numpy()))\n",
    "axs.set_title('Next Step Signals')\n",
    "plt.show()"
   ]
  },
  {
   "cell_type": "code",
   "execution_count": null,
   "metadata": {},
   "outputs": [],
   "source": []
  }
 ],
 "metadata": {
  "kernelspec": {
   "display_name": "torch",
   "language": "python",
   "name": "python3"
  },
  "language_info": {
   "codemirror_mode": {
    "name": "ipython",
    "version": 3
   },
   "file_extension": ".py",
   "mimetype": "text/x-python",
   "name": "python",
   "nbconvert_exporter": "python",
   "pygments_lexer": "ipython3",
   "version": "3.11.3"
  },
  "orig_nbformat": 4
 },
 "nbformat": 4,
 "nbformat_minor": 2
}
