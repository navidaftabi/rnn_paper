{
 "cells": [
  {
   "cell_type": "code",
   "execution_count": 1,
   "metadata": {},
   "outputs": [],
   "source": [
    "noise_type = 7\n",
    "noise_percent = 0.05"
   ]
  },
  {
   "cell_type": "code",
   "execution_count": 2,
   "metadata": {},
   "outputs": [],
   "source": [
    "import os\n",
    "import re\n",
    "import random\n",
    "import numpy as np\n",
    "from tqdm import tqdm\n",
    "from scipy.io import loadmat\n",
    "import matplotlib.pyplot as plt\n",
    "from pandas import DataFrame, concat\n",
    "\n",
    "import torch\n",
    "from torchinfo import summary\n",
    "from torch.utils.data import DataLoader\n",
    "\n",
    "from models.vae import VAE\n",
    "from models.rnn_trainer import RNNTrainer"
   ]
  },
  {
   "cell_type": "code",
   "execution_count": 3,
   "metadata": {},
   "outputs": [],
   "source": [
    "DATASET_PATH = os.path.join(os.getcwd(), 'data')\n",
    "# Path to the folder where the pretrained models are saved\n",
    "CHECKPOINT_PATH = os.path.join(os.getcwd(), 'checkpoints')"
   ]
  },
  {
   "cell_type": "code",
   "execution_count": 4,
   "metadata": {},
   "outputs": [],
   "source": [
    "seed = 13\n",
    "torch.manual_seed(seed)\n",
    "# torch.cuda.manual_seed(seed)\n",
    "# torch.cuda.manual_seed_all(seed)\n",
    "# torch.backends.cudnn.deterministic = True\n",
    "device = 'cuda' if torch.cuda.is_available() else 'cpu'"
   ]
  },
  {
   "cell_type": "code",
   "execution_count": 5,
   "metadata": {},
   "outputs": [],
   "source": [
    "class RNNDataset():\n",
    "    def __init__(self, x, y):\n",
    "        self.x = x\n",
    "        self.y = y\n",
    "    \n",
    "    def __len__(self):\n",
    "        return len(self.y)\n",
    "    \n",
    "    def __getitem__(self, idx):\n",
    "        return self.x[idx], self.y[idx]"
   ]
  },
  {
   "cell_type": "code",
   "execution_count": 6,
   "metadata": {},
   "outputs": [],
   "source": [
    "def series_to_supervised(data, n_in=1, n_out=1, dropnan=True):\n",
    "    n_vars = 1 if type(data) is list else data.shape[1]\n",
    "    df = DataFrame(data)\n",
    "    cols, names = list(), list()\n",
    "    # input sequence (t-n, ... t-1)\n",
    "    for i in range(n_in, 0, -1):\n",
    "        cols.append(df.shift(i))\n",
    "        names += [('var%d(t-%d)' % (j+1, i)) for j in range(n_vars)]\n",
    "    # forecast sequence (t, t+1, ... t+n)\n",
    "    for i in range(0, n_out):\n",
    "        cols.append(df.shift(-i))\n",
    "        if i == 0:\n",
    "            names += [('var%d(t)' % (j+1)) for j in range(n_vars)]\n",
    "        else:\n",
    "            names += [('var%d(t+%d)' % (j+1, i)) for j in range(n_vars)]\n",
    "    # put it all together\n",
    "    agg = concat(cols, axis=1)\n",
    "    agg.columns = names\n",
    "    # drop rows with NaN values\n",
    "    if dropnan:\n",
    "        agg.dropna(inplace=True)\n",
    "    return agg"
   ]
  },
  {
   "cell_type": "code",
   "execution_count": 7,
   "metadata": {},
   "outputs": [],
   "source": [
    "latent_dim = 118\n",
    "hidden_size = 100\n",
    "num_layers = 2\n",
    "batch_size = 16\n",
    "rnn_window = 10\n",
    "epochs = 1000\n",
    "lr = 1e-1\n",
    "scheduler = True\n",
    "es_patience = 10"
   ]
  },
  {
   "cell_type": "code",
   "execution_count": 8,
   "metadata": {},
   "outputs": [],
   "source": [
    "data_filename = 'Normal1.mat'\n",
    "data = loadmat(os.path.join(DATASET_PATH, data_filename))\n",
    "Z = data['Z']\n",
    "T = len(Z)"
   ]
  },
  {
   "cell_type": "code",
   "execution_count": 9,
   "metadata": {},
   "outputs": [
    {
     "data": {
      "text/plain": [
       "<All keys matched successfully>"
      ]
     },
     "execution_count": 9,
     "metadata": {},
     "output_type": "execute_result"
    }
   ],
   "source": [
    "vae = VAE(latent_dim).to(device)\n",
    "vae.load_state_dict(torch.load(os.path.join(CHECKPOINT_PATH, f'vae_{int(noise_percent*100)}%.pt')))"
   ]
  },
  {
   "cell_type": "code",
   "execution_count": 10,
   "metadata": {},
   "outputs": [
    {
     "name": "stderr",
     "output_type": "stream",
     "text": [
      "Reading noise data ... : 100%|██████████| 3/3 [00:00<00:00,  6.41it/s]\n"
     ]
    }
   ],
   "source": [
    "# read attack noise\n",
    "NOISE_PATH = os.path.join(DATASET_PATH, f'I{noise_type}')\n",
    "Z_noise = dict()\n",
    "for filename in tqdm(os.listdir(NOISE_PATH), desc='Reading noise data ... '):\n",
    "    fname = os.path.join(NOISE_PATH, filename)\n",
    "    data = loadmat(fname)\n",
    "    att_type = int(re.findall(r'\\d+', filename)[0])\n",
    "    Z_noise[att_type] = np.array(data['Z'])\n",
    "\n",
    "Z_noise = dict(sorted(Z_noise.items()))"
   ]
  },
  {
   "cell_type": "code",
   "execution_count": 11,
   "metadata": {},
   "outputs": [],
   "source": [
    "noise_size = int(T * noise_percent)\n",
    "norm_operation_win = 50\n",
    "# sample random times after norm_operation_win to add in Z\n",
    "noise_time = np.random.choice(list(range(norm_operation_win, T)), size=noise_size, replace=False)\n",
    "# sample attack types to sample a noise\n",
    "noise_to_add_from = np.random.choice(list(Z_noise.keys()), size=noise_size, replace=True).tolist()\n",
    "random.shuffle(noise_to_add_from)\n",
    "# randomly select noises from attack types\n",
    "noises = []\n",
    "for typ in noise_to_add_from:\n",
    "    noise_id = random.sample(range(T), 1)\n",
    "    noises.append(Z_noise[typ][noise_id])\n",
    "random.shuffle(noises)\n",
    "noises = np.concatenate(noises, axis=0)\n",
    "# add noises to original sensor data Z\n",
    "Z[noise_time,:] = noises\n",
    "Z = torch.tensor(Z, dtype=torch.float32).to(device)\n"
   ]
  },
  {
   "cell_type": "code",
   "execution_count": 12,
   "metadata": {},
   "outputs": [],
   "source": [
    "vae.eval()\n",
    "Z_enc = vae.encoder(Z)\n",
    "Z_supervised = series_to_supervised(Z_enc.cpu().detach().numpy(), n_in=rnn_window)\n",
    "Z_supervised = Z_supervised.values\n",
    "X, y = Z_supervised[:,:rnn_window * latent_dim], Z_supervised[:, rnn_window * latent_dim:]\n",
    "train_size = int(len(X) * 0.8)\n",
    "X_train, X_test = X[:train_size], X[train_size:]\n",
    "y_train, y_test = y[:train_size], y[train_size:]\n",
    "training = RNNDataset(X_train, y_train)\n",
    "test = RNNDataset(X_test, y_test)\n",
    "train_dl = DataLoader(training, batch_size=batch_size, shuffle=True)\n",
    "test_dl = DataLoader(test)"
   ]
  },
  {
   "cell_type": "code",
   "execution_count": 13,
   "metadata": {},
   "outputs": [
    {
     "name": "stdout",
     "output_type": "stream",
     "text": [
      "Device:  cuda\n"
     ]
    }
   ],
   "source": [
    "trainer = RNNTrainer(input_dim=rnn_window * latent_dim, \n",
    "                     outputdims = latent_dim,\n",
    "                     hidden_dim=hidden_size,\n",
    "                     num_layers=num_layers,\n",
    "                     lr=lr,\n",
    "                     lr_scheduler=scheduler,\n",
    "                     es_patience=es_patience,\n",
    "                     checkpoint_name=f'rnn_{int(noise_percent*100)}%.pt',\n",
    "                     seed=seed)"
   ]
  },
  {
   "cell_type": "code",
   "execution_count": 14,
   "metadata": {},
   "outputs": [
    {
     "data": {
      "text/plain": [
       "==========================================================================================\n",
       "Layer (type:depth-idx)                   Output Shape              Param #\n",
       "==========================================================================================\n",
       "RNN                                      [1, 118]                  --\n",
       "├─LSTM: 1-1                              [1, 50]                   543,600\n",
       "├─Linear: 1-2                            [1, 118]                  6,018\n",
       "==========================================================================================\n",
       "Total params: 549,618\n",
       "Trainable params: 549,618\n",
       "Non-trainable params: 0\n",
       "Total mult-adds (M): 27.19\n",
       "==========================================================================================\n",
       "Input size (MB): 0.00\n",
       "Forward/backward pass size (MB): 0.00\n",
       "Params size (MB): 2.20\n",
       "Estimated Total Size (MB): 2.20\n",
       "=========================================================================================="
      ]
     },
     "execution_count": 14,
     "metadata": {},
     "output_type": "execute_result"
    }
   ],
   "source": [
    "summary(trainer.rnn, (1, rnn_window * latent_dim))"
   ]
  },
  {
   "cell_type": "code",
   "execution_count": 15,
   "metadata": {},
   "outputs": [
    {
     "name": "stdout",
     "output_type": "stream",
     "text": [
      "Epoch 1/1000: [MSE: 184.1686], [Val_MSE: 341.1749], \n",
      "Validation loss decreased (inf --> 341.174905).  Saving model ...\n",
      "Epoch 2/1000: [MSE: 121.4531], [Val_MSE: 5.0721], \n",
      "Validation loss decreased (341.174905 --> 5.072077).  Saving model ...\n",
      "Epoch 3/1000: [MSE: 5.6058], [Val_MSE: 9.1308], \n",
      "EarlyStopping counter: 1 out of 10\n",
      "Epoch 4/1000: [MSE: 66.2554], [Val_MSE: 117.2016], \n",
      "EarlyStopping counter: 2 out of 10\n",
      "Epoch 5/1000: [MSE: 66.0019], [Val_MSE: 47.0128], \n",
      "EarlyStopping counter: 3 out of 10\n",
      "Epoch 6/1000: [MSE: 62.8649], [Val_MSE: 335.7241], \n",
      "EarlyStopping counter: 4 out of 10\n",
      "Epoch 7/1000: [MSE: 216.5758], [Val_MSE: 270.3984], \n",
      "EarlyStopping counter: 5 out of 10\n",
      "Epoch 8/1000: [MSE: 99.1552], [Val_MSE: 31.2945], \n",
      "EarlyStopping counter: 6 out of 10\n",
      "Epoch 9/1000: [MSE: 31.9697], [Val_MSE: 18.7965], \n",
      "EarlyStopping counter: 7 out of 10\n",
      "Epoch 10/1000: [MSE: 2.1889], [Val_MSE: 1.3386], \n",
      "Validation loss decreased (5.072077 --> 1.338585).  Saving model ...\n",
      "Epoch 11/1000: [MSE: 0.9111], [Val_MSE: 1.1007], \n",
      "Validation loss decreased (1.338585 --> 1.100726).  Saving model ...\n",
      "Epoch 12/1000: [MSE: 0.8031], [Val_MSE: 1.0124], \n",
      "Validation loss decreased (1.100726 --> 1.012443).  Saving model ...\n",
      "Epoch 13/1000: [MSE: 0.7634], [Val_MSE: 0.9158], \n",
      "Validation loss decreased (1.012443 --> 0.915770).  Saving model ...\n",
      "Epoch 14/1000: [MSE: 0.7252], [Val_MSE: 0.8858], \n",
      "Validation loss decreased (0.915770 --> 0.885826).  Saving model ...\n",
      "Epoch 15/1000: [MSE: 0.7254], [Val_MSE: 0.8059], \n",
      "Validation loss decreased (0.885826 --> 0.805936).  Saving model ...\n",
      "Epoch 16/1000: [MSE: 0.6847], [Val_MSE: 0.8193], \n",
      "EarlyStopping counter: 1 out of 10\n",
      "Epoch 17/1000: [MSE: 0.6937], [Val_MSE: 0.7620], \n",
      "Validation loss decreased (0.805936 --> 0.762043).  Saving model ...\n",
      "Epoch 18/1000: [MSE: 0.6750], [Val_MSE: 0.7570], \n",
      "Validation loss decreased (0.762043 --> 0.756982).  Saving model ...\n",
      "Epoch 19/1000: [MSE: 0.7095], [Val_MSE: 0.7305], \n",
      "Validation loss decreased (0.756982 --> 0.730483).  Saving model ...\n",
      "Epoch 20/1000: [MSE: 0.7035], [Val_MSE: 0.7117], \n",
      "Validation loss decreased (0.730483 --> 0.711695).  Saving model ...\n",
      "Epoch 21/1000: [MSE: 0.7977], [Val_MSE: 0.8133], \n",
      "EarlyStopping counter: 1 out of 10\n",
      "Epoch 22/1000: [MSE: 0.8235], [Val_MSE: 0.8059], \n",
      "EarlyStopping counter: 2 out of 10\n",
      "Epoch 23/1000: [MSE: 0.8611], [Val_MSE: 0.7670], \n",
      "EarlyStopping counter: 3 out of 10\n",
      "Epoch 24/1000: [MSE: 0.8676], [Val_MSE: 1.3238], \n",
      "EarlyStopping counter: 4 out of 10\n",
      "Epoch 25/1000: [MSE: 1.5949], [Val_MSE: 0.9185], \n",
      "EarlyStopping counter: 5 out of 10\n",
      "Epoch 26/1000: [MSE: 1.0513], [Val_MSE: 0.9069], \n",
      "EarlyStopping counter: 6 out of 10\n",
      "Epoch 27/1000: [MSE: 1.1592], [Val_MSE: 1.0760], \n",
      "EarlyStopping counter: 7 out of 10\n",
      "Epoch 28/1000: [MSE: 0.6001], [Val_MSE: 0.5754], \n",
      "Validation loss decreased (0.711695 --> 0.575357).  Saving model ...\n",
      "Epoch 29/1000: [MSE: 0.5579], [Val_MSE: 0.5697], \n",
      "Validation loss decreased (0.575357 --> 0.569706).  Saving model ...\n",
      "Epoch 30/1000: [MSE: 0.5544], [Val_MSE: 0.5790], \n",
      "EarlyStopping counter: 1 out of 10\n",
      "Epoch 31/1000: [MSE: 0.5585], [Val_MSE: 0.5767], \n",
      "EarlyStopping counter: 2 out of 10\n",
      "Epoch 32/1000: [MSE: 0.5626], [Val_MSE: 0.5791], \n",
      "EarlyStopping counter: 3 out of 10\n",
      "Epoch 33/1000: [MSE: 0.5699], [Val_MSE: 0.5870], \n",
      "EarlyStopping counter: 4 out of 10\n",
      "Epoch 34/1000: [MSE: 0.5694], [Val_MSE: 0.5707], \n",
      "EarlyStopping counter: 5 out of 10\n",
      "Epoch 35/1000: [MSE: 0.5758], [Val_MSE: 0.6015], \n",
      "EarlyStopping counter: 6 out of 10\n",
      "Epoch 36/1000: [MSE: 0.5883], [Val_MSE: 0.5774], \n",
      "EarlyStopping counter: 7 out of 10\n",
      "Epoch 37/1000: [MSE: 0.5276], [Val_MSE: 0.5376], \n",
      "Validation loss decreased (0.569706 --> 0.537635).  Saving model ...\n",
      "Epoch 38/1000: [MSE: 0.5233], [Val_MSE: 0.5356], \n",
      "Validation loss decreased (0.537635 --> 0.535644).  Saving model ...\n",
      "Epoch 39/1000: [MSE: 0.5241], [Val_MSE: 0.5334], \n",
      "Validation loss decreased (0.535644 --> 0.533362).  Saving model ...\n",
      "Epoch 40/1000: [MSE: 0.5244], [Val_MSE: 0.5341], \n",
      "EarlyStopping counter: 1 out of 10\n",
      "Epoch 41/1000: [MSE: 0.5252], [Val_MSE: 0.5361], \n",
      "EarlyStopping counter: 2 out of 10\n",
      "Epoch 42/1000: [MSE: 0.5261], [Val_MSE: 0.5362], \n",
      "EarlyStopping counter: 3 out of 10\n",
      "Epoch 43/1000: [MSE: 0.5284], [Val_MSE: 0.5371], \n",
      "EarlyStopping counter: 4 out of 10\n",
      "Epoch 44/1000: [MSE: 0.5276], [Val_MSE: 0.5373], \n",
      "EarlyStopping counter: 5 out of 10\n",
      "Epoch 45/1000: [MSE: 0.5308], [Val_MSE: 0.5390], \n",
      "EarlyStopping counter: 6 out of 10\n",
      "Epoch 46/1000: [MSE: 0.5299], [Val_MSE: 0.5373], \n",
      "EarlyStopping counter: 7 out of 10\n",
      "Epoch 47/1000: [MSE: 0.5167], [Val_MSE: 0.5243], \n",
      "Validation loss decreased (0.533362 --> 0.524276).  Saving model ...\n",
      "Epoch 48/1000: [MSE: 0.5146], [Val_MSE: 0.5238], \n",
      "Validation loss decreased (0.524276 --> 0.523796).  Saving model ...\n",
      "Epoch 49/1000: [MSE: 0.5140], [Val_MSE: 0.5244], \n",
      "EarlyStopping counter: 1 out of 10\n",
      "Epoch 50/1000: [MSE: 0.5148], [Val_MSE: 0.5242], \n",
      "EarlyStopping counter: 2 out of 10\n",
      "Epoch 51/1000: [MSE: 0.5148], [Val_MSE: 0.5239], \n",
      "EarlyStopping counter: 3 out of 10\n",
      "Epoch 52/1000: [MSE: 0.5148], [Val_MSE: 0.5237], \n",
      "Validation loss decreased (0.523796 --> 0.523722).  Saving model ...\n",
      "Epoch 53/1000: [MSE: 0.5148], [Val_MSE: 0.5246], \n",
      "EarlyStopping counter: 1 out of 10\n",
      "Epoch 54/1000: [MSE: 0.5155], [Val_MSE: 0.5239], \n",
      "EarlyStopping counter: 2 out of 10\n",
      "Epoch 55/1000: [MSE: 0.5155], [Val_MSE: 0.5236], \n",
      "Validation loss decreased (0.523722 --> 0.523633).  Saving model ...\n",
      "Epoch 56/1000: [MSE: 0.5158], [Val_MSE: 0.5244], \n",
      "EarlyStopping counter: 1 out of 10\n",
      "Epoch 57/1000: [MSE: 0.5160], [Val_MSE: 0.5243], \n",
      "EarlyStopping counter: 2 out of 10\n",
      "Epoch 58/1000: [MSE: 0.5158], [Val_MSE: 0.5231], \n",
      "Validation loss decreased (0.523633 --> 0.523122).  Saving model ...\n",
      "Epoch 59/1000: [MSE: 0.5161], [Val_MSE: 0.5248], \n",
      "EarlyStopping counter: 1 out of 10\n",
      "Epoch 60/1000: [MSE: 0.5159], [Val_MSE: 0.5255], \n",
      "EarlyStopping counter: 2 out of 10\n",
      "Epoch 61/1000: [MSE: 0.5171], [Val_MSE: 0.5245], \n",
      "EarlyStopping counter: 3 out of 10\n",
      "Epoch 62/1000: [MSE: 0.5168], [Val_MSE: 0.5244], \n",
      "EarlyStopping counter: 4 out of 10\n",
      "Epoch 63/1000: [MSE: 0.5163], [Val_MSE: 0.5266], \n",
      "EarlyStopping counter: 5 out of 10\n",
      "Epoch 64/1000: [MSE: 0.5163], [Val_MSE: 0.5248], \n",
      "EarlyStopping counter: 6 out of 10\n",
      "Epoch 65/1000: [MSE: 0.5164], [Val_MSE: 0.5260], \n",
      "EarlyStopping counter: 7 out of 10\n",
      "Epoch 66/1000: [MSE: 0.5125], [Val_MSE: 0.5206], \n",
      "Validation loss decreased (0.523122 --> 0.520564).  Saving model ...\n",
      "Epoch 67/1000: [MSE: 0.5117], [Val_MSE: 0.5206], \n",
      "EarlyStopping counter: 1 out of 10\n",
      "Epoch 68/1000: [MSE: 0.5115], [Val_MSE: 0.5205], \n",
      "Validation loss decreased (0.520564 --> 0.520460).  Saving model ...\n",
      "Epoch 69/1000: [MSE: 0.5112], [Val_MSE: 0.5201], \n",
      "Validation loss decreased (0.520460 --> 0.520099).  Saving model ...\n",
      "Epoch 70/1000: [MSE: 0.5118], [Val_MSE: 0.5201], \n",
      "Validation loss decreased (0.520099 --> 0.520061).  Saving model ...\n",
      "Epoch 71/1000: [MSE: 0.5117], [Val_MSE: 0.5194], \n",
      "Validation loss decreased (0.520061 --> 0.519419).  Saving model ...\n",
      "Epoch 72/1000: [MSE: 0.5113], [Val_MSE: 0.5197], \n",
      "EarlyStopping counter: 1 out of 10\n",
      "Epoch 73/1000: [MSE: 0.5115], [Val_MSE: 0.5194], \n",
      "Validation loss decreased (0.519419 --> 0.519364).  Saving model ...\n",
      "Epoch 74/1000: [MSE: 0.5113], [Val_MSE: 0.5195], \n",
      "EarlyStopping counter: 1 out of 10\n",
      "Epoch 75/1000: [MSE: 0.5115], [Val_MSE: 0.5199], \n",
      "EarlyStopping counter: 2 out of 10\n",
      "Epoch 76/1000: [MSE: 0.5113], [Val_MSE: 0.5204], \n",
      "EarlyStopping counter: 3 out of 10\n",
      "Epoch 77/1000: [MSE: 0.5115], [Val_MSE: 0.5195], \n",
      "EarlyStopping counter: 4 out of 10\n",
      "Epoch 78/1000: [MSE: 0.5120], [Val_MSE: 0.5196], \n",
      "EarlyStopping counter: 5 out of 10\n",
      "Epoch 79/1000: [MSE: 0.5117], [Val_MSE: 0.5198], \n",
      "EarlyStopping counter: 6 out of 10\n",
      "Epoch 80/1000: [MSE: 0.5110], [Val_MSE: 0.5196], \n",
      "EarlyStopping counter: 7 out of 10\n",
      "Epoch 81/1000: [MSE: 0.5114], [Val_MSE: 0.5192], \n",
      "Validation loss decreased (0.519364 --> 0.519207).  Saving model ...\n",
      "Epoch 82/1000: [MSE: 0.5114], [Val_MSE: 0.5198], \n",
      "EarlyStopping counter: 1 out of 10\n",
      "Epoch 83/1000: [MSE: 0.5116], [Val_MSE: 0.5195], \n",
      "EarlyStopping counter: 2 out of 10\n",
      "Epoch 84/1000: [MSE: 0.5114], [Val_MSE: 0.5200], \n",
      "EarlyStopping counter: 3 out of 10\n",
      "Epoch 85/1000: [MSE: 0.5114], [Val_MSE: 0.5197], \n",
      "EarlyStopping counter: 4 out of 10\n",
      "Epoch 86/1000: [MSE: 0.5109], [Val_MSE: 0.5194], \n",
      "EarlyStopping counter: 5 out of 10\n",
      "Epoch 87/1000: [MSE: 0.5112], [Val_MSE: 0.5194], \n",
      "EarlyStopping counter: 6 out of 10\n",
      "Epoch 88/1000: [MSE: 0.5109], [Val_MSE: 0.5191], \n",
      "Validation loss decreased (0.519207 --> 0.519127).  Saving model ...\n",
      "Epoch 89/1000: [MSE: 0.5113], [Val_MSE: 0.5189], \n",
      "Validation loss decreased (0.519127 --> 0.518943).  Saving model ...\n",
      "Epoch 90/1000: [MSE: 0.5113], [Val_MSE: 0.5191], \n",
      "EarlyStopping counter: 1 out of 10\n",
      "Epoch 91/1000: [MSE: 0.5110], [Val_MSE: 0.5194], \n",
      "EarlyStopping counter: 2 out of 10\n",
      "Epoch 92/1000: [MSE: 0.5112], [Val_MSE: 0.5195], \n",
      "EarlyStopping counter: 3 out of 10\n",
      "Epoch 93/1000: [MSE: 0.5110], [Val_MSE: 0.5193], \n",
      "EarlyStopping counter: 4 out of 10\n",
      "Epoch 94/1000: [MSE: 0.5109], [Val_MSE: 0.5192], \n",
      "EarlyStopping counter: 5 out of 10\n",
      "Epoch 95/1000: [MSE: 0.5110], [Val_MSE: 0.5192], \n",
      "EarlyStopping counter: 6 out of 10\n",
      "Epoch 96/1000: [MSE: 0.5110], [Val_MSE: 0.5194], \n",
      "EarlyStopping counter: 7 out of 10\n",
      "Epoch 97/1000: [MSE: 0.5110], [Val_MSE: 0.5193], \n",
      "EarlyStopping counter: 8 out of 10\n",
      "Epoch 98/1000: [MSE: 0.5112], [Val_MSE: 0.5193], \n",
      "EarlyStopping counter: 9 out of 10\n",
      "Epoch 99/1000: [MSE: 0.5109], [Val_MSE: 0.5191], \n",
      "EarlyStopping counter: 10 out of 10\n",
      "Early stopping!\n"
     ]
    }
   ],
   "source": [
    "rnn, mse, val_mse = trainer.train(train_dl=train_dl,\n",
    "                                  test_dl=test_dl,\n",
    "                                  epochs=epochs)"
   ]
  },
  {
   "cell_type": "code",
   "execution_count": 16,
   "metadata": {},
   "outputs": [],
   "source": [
    "def plot_learning(mse, val_mse):\n",
    "    fig, axs = plt.subplots(figsize=(8,4))\n",
    "    axs.plot(mse, color='r', label='Training')\n",
    "    axs.plot(val_mse, color='b', label='Validation')\n",
    "    axs.set_title('MSE vs. Validation MSE')\n",
    "    plt.legend()\n",
    "    # plt.savefig('./img/mrnntraining.pdf', format='pdf', dpi=1200)\n",
    "    plt.show()"
   ]
  },
  {
   "cell_type": "code",
   "execution_count": 17,
   "metadata": {},
   "outputs": [
    {
     "data": {
      "image/png": "[encoded data removed]",
      "text/plain": [
       "<Figure size 800x400 with 1 Axes>"
      ]
     },
     "metadata": {},
     "output_type": "display_data"
    }
   ],
   "source": [
    "plot_learning(mse, val_mse)"
   ]
  },
  {
   "cell_type": "code",
   "execution_count": 18,
   "metadata": {},
   "outputs": [],
   "source": [
    "zz0 = torch.tensor(X_test[-3:-1,:], dtype=torch.float32).to(device)\n",
    "rnn.eval()\n",
    "zz = rnn(zz0)\n",
    "s_rec = vae.decoder(zz)"
   ]
  },
  {
   "cell_type": "code",
   "execution_count": 19,
   "metadata": {},
   "outputs": [
    {
     "data": {
      "image/png": "[encoded data removed]",
      "text/plain": [
       "<Figure size 800x400 with 1 Axes>"
      ]
     },
     "metadata": {},
     "output_type": "display_data"
    }
   ],
   "source": [
    "fig, axs = plt.subplots(figsize=(8,4))\n",
    "axs.plot(np.transpose(Z.cpu().detach().numpy()[-1,:]), label='True')\n",
    "axs.plot(np.transpose(s_rec[1,:].cpu().detach().numpy()), label='Prediction')\n",
    "axs.set_title('Original Signals')\n",
    "plt.legend()\n",
    "plt.show()"
   ]
  },
  {
   "cell_type": "code",
   "execution_count": 20,
   "metadata": {},
   "outputs": [
    {
     "data": {
      "image/png": "[encoded data removed]",
      "text/plain": [
       "<Figure size 800x400 with 1 Axes>"
      ]
     },
     "metadata": {},
     "output_type": "display_data"
    }
   ],
   "source": [
    "fig, axs = plt.subplots(figsize=(8,4))\n",
    "axs.plot(np.transpose(s_rec.cpu().detach().numpy()))\n",
    "axs.set_title('Next Step Signals')\n",
    "plt.show()"
   ]
  },
  {
   "cell_type": "code",
   "execution_count": null,
   "metadata": {},
   "outputs": [],
   "source": []
  }
 ],
 "metadata": {
  "kernelspec": {
   "display_name": "torch",
   "language": "python",
   "name": "python3"
  },
  "language_info": {
   "codemirror_mode": {
    "name": "ipython",
    "version": 3
   },
   "file_extension": ".py",
   "mimetype": "text/x-python",
   "name": "python",
   "nbconvert_exporter": "python",
   "pygments_lexer": "ipython3",
   "version": "3.10.11"
  },
  "orig_nbformat": 4
 },
 "nbformat": 4,
 "nbformat_minor": 2
}
