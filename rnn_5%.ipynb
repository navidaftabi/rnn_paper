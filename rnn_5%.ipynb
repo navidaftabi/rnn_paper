{
 "cells": [
  {
   "cell_type": "code",
   "execution_count": 1,
   "metadata": {},
   "outputs": [],
   "source": [
    "noise_type = 7\n",
    "noise_percent = 0.05"
   ]
  },
  {
   "cell_type": "code",
   "execution_count": 2,
   "metadata": {},
   "outputs": [],
   "source": [
    "import os\n",
    "import re\n",
    "import random\n",
    "import numpy as np\n",
    "from tqdm import tqdm\n",
    "from scipy.io import loadmat\n",
    "import matplotlib.pyplot as plt\n",
    "from pandas import DataFrame, concat\n",
    "\n",
    "import torch\n",
    "from torchinfo import summary\n",
    "from torch.utils.data import DataLoader\n",
    "\n",
    "from models.vae import VAE\n",
    "from models.rnn_trainer import RNNTrainer"
   ]
  },
  {
   "cell_type": "code",
   "execution_count": 3,
   "metadata": {},
   "outputs": [],
   "source": [
    "DATASET_PATH = os.path.join(os.getcwd(), 'data')\n",
    "# Path to the folder where the pretrained models are saved\n",
    "CHECKPOINT_PATH = os.path.join(os.getcwd(), 'checkpoints')"
   ]
  },
  {
   "cell_type": "code",
   "execution_count": 4,
   "metadata": {},
   "outputs": [],
   "source": [
    "seed = 13\n",
    "# seed = 23\n",
    "torch.manual_seed(seed)\n",
    "# torch.cuda.manual_seed(seed)\n",
    "# torch.cuda.manual_seed_all(seed)\n",
    "# torch.backends.cudnn.deterministic = True\n",
    "device = 'cuda' if torch.cuda.is_available() else 'cpu'"
   ]
  },
  {
   "cell_type": "code",
   "execution_count": 5,
   "metadata": {},
   "outputs": [],
   "source": [
    "class RNNDataset():\n",
    "    def __init__(self, x, y):\n",
    "        self.x = x\n",
    "        self.y = y\n",
    "    \n",
    "    def __len__(self):\n",
    "        return len(self.y)\n",
    "    \n",
    "    def __getitem__(self, idx):\n",
    "        return self.x[idx], self.y[idx]"
   ]
  },
  {
   "cell_type": "code",
   "execution_count": 6,
   "metadata": {},
   "outputs": [],
   "source": [
    "def series_to_supervised(data, n_in=1, n_out=1, dropnan=True):\n",
    "    n_vars = 1 if type(data) is list else data.shape[1]\n",
    "    df = DataFrame(data)\n",
    "    cols, names = list(), list()\n",
    "    # input sequence (t-n, ... t-1)\n",
    "    for i in range(n_in, 0, -1):\n",
    "        cols.append(df.shift(i))\n",
    "        names += [('var%d(t-%d)' % (j+1, i)) for j in range(n_vars)]\n",
    "    # forecast sequence (t, t+1, ... t+n)\n",
    "    for i in range(0, n_out):\n",
    "        cols.append(df.shift(-i))\n",
    "        if i == 0:\n",
    "            names += [('var%d(t)' % (j+1)) for j in range(n_vars)]\n",
    "        else:\n",
    "            names += [('var%d(t+%d)' % (j+1, i)) for j in range(n_vars)]\n",
    "    # put it all together\n",
    "    agg = concat(cols, axis=1)\n",
    "    agg.columns = names\n",
    "    # drop rows with NaN values\n",
    "    if dropnan:\n",
    "        agg.dropna(inplace=True)\n",
    "    return agg"
   ]
  },
  {
   "cell_type": "code",
   "execution_count": 7,
   "metadata": {},
   "outputs": [],
   "source": [
    "latent_dim = 118\n",
    "hidden_size = 100\n",
    "num_layers = 2\n",
    "batch_size = 16\n",
    "rnn_window = 10\n",
    "epochs = 1000\n",
    "lr = 1e-1\n",
    "scheduler = True\n",
    "es_patience = 10"
   ]
  },
  {
   "cell_type": "code",
   "execution_count": 8,
   "metadata": {},
   "outputs": [],
   "source": [
    "data_filename = 'Normal1.mat'\n",
    "data = loadmat(os.path.join(DATASET_PATH, data_filename))\n",
    "Z = data['Z']\n",
    "T = len(Z)"
   ]
  },
  {
   "cell_type": "code",
   "execution_count": 9,
   "metadata": {},
   "outputs": [
    {
     "data": {
      "text/plain": [
       "<All keys matched successfully>"
      ]
     },
     "execution_count": 9,
     "metadata": {},
     "output_type": "execute_result"
    }
   ],
   "source": [
    "vae = VAE(latent_dim).to(device)\n",
    "vae.load_state_dict(torch.load(os.path.join(CHECKPOINT_PATH, f'vae_{int(noise_percent*100)}%.pt')))"
   ]
  },
  {
   "cell_type": "code",
   "execution_count": 10,
   "metadata": {},
   "outputs": [
    {
     "name": "stderr",
     "output_type": "stream",
     "text": [
      "Reading noise data ... : 100%|██████████| 3/3 [00:00<00:00,  6.70it/s]\n"
     ]
    }
   ],
   "source": [
    "# read attack noise\n",
    "noise_size = int(T * noise_percent)\n",
    "norm_operation_win = 50\n",
    "NOISE_PATH = os.path.join(DATASET_PATH, f'I{noise_type}')\n",
    "Z_noise = dict()\n",
    "for filename in tqdm(os.listdir(NOISE_PATH), desc='Reading noise data ... '):\n",
    "    fname = os.path.join(NOISE_PATH, filename)\n",
    "    data = loadmat(fname)\n",
    "    att_type = int(re.findall(r'\\d+', filename)[0])\n",
    "    Z_noise[att_type] = np.array(data['Z'])\n",
    "\n",
    "Z_noise = dict(sorted(Z_noise.items()))"
   ]
  },
  {
   "cell_type": "code",
   "execution_count": 11,
   "metadata": {},
   "outputs": [],
   "source": [
    "# sample random times after norm_operation_win to add in Z\n",
    "noise_time = np.random.choice(list(range(norm_operation_win, T)), size=noise_size, replace=False)\n",
    "# sample attack types to sample a noise\n",
    "noise_to_add_from = np.random.choice(list(Z_noise.keys()), size=noise_size, replace=True).tolist()\n",
    "random.shuffle(noise_to_add_from)\n",
    "# randomly select noises from attack types\n",
    "noises = []\n",
    "for typ in noise_to_add_from:\n",
    "    noise_id = random.sample(range(T), 1)\n",
    "    noises.append(Z_noise[typ][noise_id])\n",
    "random.shuffle(noises)\n",
    "noises = np.concatenate(noises, axis=0)\n",
    "# add noises to original sensor data Z\n",
    "Z[noise_time] = noises\n",
    "Z = torch.tensor(Z, dtype=torch.float32).to(device)\n"
   ]
  },
  {
   "cell_type": "code",
   "execution_count": 12,
   "metadata": {},
   "outputs": [],
   "source": [
    "vae.eval()\n",
    "Z_enc = vae.encoder(Z)\n",
    "Z_supervised = series_to_supervised(Z_enc.cpu().detach().numpy(), n_in=rnn_window)\n",
    "Z_supervised = Z_supervised.values\n",
    "X, y = Z_supervised[:,:rnn_window * latent_dim], Z_supervised[:, rnn_window * latent_dim:]\n",
    "train_size = int(len(X) * 0.8)\n",
    "X_train, X_test = X[:train_size], X[train_size:]\n",
    "y_train, y_test = y[:train_size], y[train_size:]\n",
    "training = RNNDataset(X_train, y_train)\n",
    "test = RNNDataset(X_test, y_test)\n",
    "train_dl = DataLoader(training, batch_size=batch_size, shuffle=True)\n",
    "test_dl = DataLoader(test)"
   ]
  },
  {
   "cell_type": "code",
   "execution_count": 13,
   "metadata": {},
   "outputs": [
    {
     "name": "stdout",
     "output_type": "stream",
     "text": [
      "Device:  cpu\n"
     ]
    }
   ],
   "source": [
    "trainer = RNNTrainer(input_dim=rnn_window * latent_dim, \n",
    "                     outputdims = latent_dim,\n",
    "                     hidden_dim=hidden_size,\n",
    "                     num_layers=num_layers,\n",
    "                     lr=lr,\n",
    "                     lr_scheduler=scheduler,\n",
    "                     es_patience=es_patience,\n",
    "                     checkpoint_name=f'rnn_{int(noise_percent*100)}%.pt',\n",
    "                     seed=13)"
   ]
  },
  {
   "cell_type": "code",
   "execution_count": 15,
   "metadata": {},
   "outputs": [
    {
     "data": {
      "text/plain": [
       "==========================================================================================\n",
       "Layer (type:depth-idx)                   Output Shape              Param #\n",
       "==========================================================================================\n",
       "RNN                                      [1, 118]                  --\n",
       "├─LSTM: 1-1                              [1, 50]                   543,600\n",
       "├─Linear: 1-2                            [1, 118]                  6,018\n",
       "==========================================================================================\n",
       "Total params: 549,618\n",
       "Trainable params: 549,618\n",
       "Non-trainable params: 0\n",
       "Total mult-adds (Units.MEGABYTES): 27.19\n",
       "==========================================================================================\n",
       "Input size (MB): 0.00\n",
       "Forward/backward pass size (MB): 0.00\n",
       "Params size (MB): 2.20\n",
       "Estimated Total Size (MB): 2.20\n",
       "=========================================================================================="
      ]
     },
     "execution_count": 15,
     "metadata": {},
     "output_type": "execute_result"
    }
   ],
   "source": [
    "summary(trainer.rnn, (1, rnn_window * latent_dim))"
   ]
  },
  {
   "cell_type": "code",
   "execution_count": 16,
   "metadata": {},
   "outputs": [
    {
     "name": "stdout",
     "output_type": "stream",
     "text": [
      "Epoch 1/1000: [MSE: 24.8510], [Val_MSE: 73.7931], \n",
      "Validation loss decreased (inf --> 73.793081).  Saving model ...\n",
      "Epoch 2/1000: [MSE: 199.5088], [Val_MSE: 392.5693], \n",
      "EarlyStopping counter: 1 out of 10\n",
      "Epoch 3/1000: [MSE: 97.8355], [Val_MSE: 50.2717], \n",
      "Validation loss decreased (73.793081 --> 50.271666).  Saving model ...\n",
      "Epoch 4/1000: [MSE: 80.4811], [Val_MSE: 24.7680], \n",
      "Validation loss decreased (50.271666 --> 24.767973).  Saving model ...\n",
      "Epoch 5/1000: [MSE: 35.4966], [Val_MSE: 24.2472], \n",
      "Validation loss decreased (24.767973 --> 24.247215).  Saving model ...\n",
      "Epoch 6/1000: [MSE: 815.5422], [Val_MSE: 73.6317], \n",
      "EarlyStopping counter: 1 out of 10\n",
      "Epoch 7/1000: [MSE: 16.8307], [Val_MSE: 3.5151], \n",
      "Validation loss decreased (24.247215 --> 3.515124).  Saving model ...\n",
      "Epoch 8/1000: [MSE: 5.4733], [Val_MSE: 16.4744], \n",
      "EarlyStopping counter: 1 out of 10\n",
      "Epoch 9/1000: [MSE: 153.6710], [Val_MSE: 143.4647], \n",
      "EarlyStopping counter: 2 out of 10\n",
      "Epoch 10/1000: [MSE: 1016.4158], [Val_MSE: 366.6869], \n",
      "EarlyStopping counter: 3 out of 10\n",
      "Epoch 11/1000: [MSE: 655.3107], [Val_MSE: 117.9854], \n",
      "EarlyStopping counter: 4 out of 10\n",
      "Epoch 12/1000: [MSE: 129.2920], [Val_MSE: 193.1872], \n",
      "EarlyStopping counter: 5 out of 10\n",
      "Epoch 13/1000: [MSE: 133.4075], [Val_MSE: 184.4312], \n",
      "EarlyStopping counter: 6 out of 10\n",
      "Epoch 14/1000: [MSE: 348.3693], [Val_MSE: 52.2971], \n",
      "EarlyStopping counter: 7 out of 10\n",
      "Epoch 15/1000: [MSE: 8.8537], [Val_MSE: 3.1410], \n",
      "Validation loss decreased (3.515124 --> 3.140978).  Saving model ...\n",
      "Epoch 16/1000: [MSE: 2.3993], [Val_MSE: 1.9200], \n",
      "Validation loss decreased (3.140978 --> 1.919992).  Saving model ...\n",
      "Epoch 17/1000: [MSE: 1.5337], [Val_MSE: 1.4931], \n",
      "Validation loss decreased (1.919992 --> 1.493064).  Saving model ...\n",
      "Epoch 18/1000: [MSE: 1.2036], [Val_MSE: 1.1062], \n",
      "Validation loss decreased (1.493064 --> 1.106163).  Saving model ...\n",
      "Epoch 19/1000: [MSE: 1.0005], [Val_MSE: 0.9596], \n",
      "Validation loss decreased (1.106163 --> 0.959592).  Saving model ...\n",
      "Epoch 20/1000: [MSE: 0.8887], [Val_MSE: 0.8535], \n",
      "Validation loss decreased (0.959592 --> 0.853477).  Saving model ...\n",
      "Epoch 21/1000: [MSE: 0.8077], [Val_MSE: 0.7921], \n",
      "Validation loss decreased (0.853477 --> 0.792147).  Saving model ...\n",
      "Epoch 22/1000: [MSE: 0.7735], [Val_MSE: 0.7604], \n",
      "Validation loss decreased (0.792147 --> 0.760430).  Saving model ...\n",
      "Epoch 23/1000: [MSE: 0.7585], [Val_MSE: 0.7192], \n",
      "Validation loss decreased (0.760430 --> 0.719156).  Saving model ...\n",
      "Epoch 24/1000: [MSE: 0.7292], [Val_MSE: 0.7404], \n",
      "EarlyStopping counter: 1 out of 10\n",
      "Epoch 25/1000: [MSE: 0.7207], [Val_MSE: 0.7048], \n",
      "Validation loss decreased (0.719156 --> 0.704795).  Saving model ...\n",
      "Epoch 26/1000: [MSE: 0.7375], [Val_MSE: 0.7223], \n",
      "EarlyStopping counter: 1 out of 10\n",
      "Epoch 27/1000: [MSE: 0.7351], [Val_MSE: 0.7045], \n",
      "Validation loss decreased (0.704795 --> 0.704500).  Saving model ...\n",
      "Epoch 28/1000: [MSE: 0.7371], [Val_MSE: 0.6951], \n",
      "Validation loss decreased (0.704500 --> 0.695093).  Saving model ...\n",
      "Epoch 29/1000: [MSE: 0.7999], [Val_MSE: 0.7292], \n",
      "EarlyStopping counter: 1 out of 10\n",
      "Epoch 30/1000: [MSE: 0.9167], [Val_MSE: 1.7337], \n",
      "EarlyStopping counter: 2 out of 10\n",
      "Epoch 31/1000: [MSE: 1.2866], [Val_MSE: 0.7552], \n",
      "EarlyStopping counter: 3 out of 10\n",
      "Epoch 32/1000: [MSE: 1.2931], [Val_MSE: 1.2750], \n",
      "EarlyStopping counter: 4 out of 10\n",
      "Epoch 33/1000: [MSE: 2.7857], [Val_MSE: 1.4269], \n",
      "EarlyStopping counter: 5 out of 10\n",
      "Epoch 34/1000: [MSE: 1.6607], [Val_MSE: 4.8928], \n",
      "EarlyStopping counter: 6 out of 10\n",
      "Epoch 35/1000: [MSE: 5.0950], [Val_MSE: 1.0072], \n",
      "EarlyStopping counter: 7 out of 10\n",
      "Epoch 36/1000: [MSE: 0.6265], [Val_MSE: 0.5973], \n",
      "Validation loss decreased (0.695093 --> 0.597311).  Saving model ...\n",
      "Epoch 37/1000: [MSE: 0.5660], [Val_MSE: 0.5569], \n",
      "Validation loss decreased (0.597311 --> 0.556903).  Saving model ...\n",
      "Epoch 38/1000: [MSE: 0.5667], [Val_MSE: 0.5766], \n",
      "EarlyStopping counter: 1 out of 10\n",
      "Epoch 39/1000: [MSE: 0.5690], [Val_MSE: 0.5554], \n",
      "Validation loss decreased (0.556903 --> 0.555387).  Saving model ...\n",
      "Epoch 40/1000: [MSE: 0.5875], [Val_MSE: 0.5675], \n",
      "EarlyStopping counter: 1 out of 10\n",
      "Epoch 41/1000: [MSE: 0.5880], [Val_MSE: 0.5718], \n",
      "EarlyStopping counter: 2 out of 10\n",
      "Epoch 42/1000: [MSE: 0.5888], [Val_MSE: 0.5732], \n",
      "EarlyStopping counter: 3 out of 10\n",
      "Epoch 43/1000: [MSE: 0.5951], [Val_MSE: 0.5875], \n",
      "EarlyStopping counter: 4 out of 10\n",
      "Epoch 44/1000: [MSE: 0.6115], [Val_MSE: 0.6181], \n",
      "EarlyStopping counter: 5 out of 10\n",
      "Epoch 45/1000: [MSE: 0.6330], [Val_MSE: 0.6115], \n",
      "EarlyStopping counter: 6 out of 10\n",
      "Epoch 46/1000: [MSE: 0.6365], [Val_MSE: 0.5905], \n",
      "EarlyStopping counter: 7 out of 10\n",
      "Epoch 47/1000: [MSE: 0.5329], [Val_MSE: 0.5233], \n",
      "Validation loss decreased (0.555387 --> 0.523310).  Saving model ...\n",
      "Epoch 48/1000: [MSE: 0.5237], [Val_MSE: 0.5239], \n",
      "EarlyStopping counter: 1 out of 10\n",
      "Epoch 49/1000: [MSE: 0.5252], [Val_MSE: 0.5258], \n",
      "EarlyStopping counter: 2 out of 10\n",
      "Epoch 50/1000: [MSE: 0.5260], [Val_MSE: 0.5287], \n",
      "EarlyStopping counter: 3 out of 10\n",
      "Epoch 51/1000: [MSE: 0.5283], [Val_MSE: 0.5258], \n",
      "EarlyStopping counter: 4 out of 10\n",
      "Epoch 52/1000: [MSE: 0.5298], [Val_MSE: 0.5284], \n",
      "EarlyStopping counter: 5 out of 10\n",
      "Epoch 53/1000: [MSE: 0.5309], [Val_MSE: 0.5273], \n",
      "EarlyStopping counter: 6 out of 10\n",
      "Epoch 54/1000: [MSE: 0.5332], [Val_MSE: 0.5290], \n",
      "EarlyStopping counter: 7 out of 10\n",
      "Epoch 55/1000: [MSE: 0.5137], [Val_MSE: 0.5127], \n",
      "Validation loss decreased (0.523310 --> 0.512733).  Saving model ...\n",
      "Epoch 56/1000: [MSE: 0.5102], [Val_MSE: 0.5121], \n",
      "Validation loss decreased (0.512733 --> 0.512110).  Saving model ...\n",
      "Epoch 57/1000: [MSE: 0.5105], [Val_MSE: 0.5119], \n",
      "Validation loss decreased (0.512110 --> 0.511945).  Saving model ...\n",
      "Epoch 58/1000: [MSE: 0.5105], [Val_MSE: 0.5128], \n",
      "EarlyStopping counter: 1 out of 10\n",
      "Epoch 59/1000: [MSE: 0.5107], [Val_MSE: 0.5123], \n",
      "EarlyStopping counter: 2 out of 10\n",
      "Epoch 60/1000: [MSE: 0.5113], [Val_MSE: 0.5119], \n",
      "Validation loss decreased (0.511945 --> 0.511871).  Saving model ...\n",
      "Epoch 61/1000: [MSE: 0.5114], [Val_MSE: 0.5137], \n",
      "EarlyStopping counter: 1 out of 10\n",
      "Epoch 62/1000: [MSE: 0.5115], [Val_MSE: 0.5141], \n",
      "EarlyStopping counter: 2 out of 10\n",
      "Epoch 63/1000: [MSE: 0.5125], [Val_MSE: 0.5132], \n",
      "EarlyStopping counter: 3 out of 10\n",
      "Epoch 64/1000: [MSE: 0.5124], [Val_MSE: 0.5129], \n",
      "EarlyStopping counter: 4 out of 10\n",
      "Epoch 65/1000: [MSE: 0.5130], [Val_MSE: 0.5127], \n",
      "EarlyStopping counter: 5 out of 10\n",
      "Epoch 66/1000: [MSE: 0.5129], [Val_MSE: 0.5151], \n",
      "EarlyStopping counter: 6 out of 10\n",
      "Epoch 67/1000: [MSE: 0.5139], [Val_MSE: 0.5145], \n",
      "EarlyStopping counter: 7 out of 10\n",
      "Epoch 68/1000: [MSE: 0.5086], [Val_MSE: 0.5093], \n",
      "Validation loss decreased (0.511871 --> 0.509283).  Saving model ...\n",
      "Epoch 69/1000: [MSE: 0.5070], [Val_MSE: 0.5092], \n",
      "Validation loss decreased (0.509283 --> 0.509190).  Saving model ...\n",
      "Epoch 70/1000: [MSE: 0.5070], [Val_MSE: 0.5090], \n",
      "Validation loss decreased (0.509190 --> 0.509045).  Saving model ...\n",
      "Epoch 71/1000: [MSE: 0.5068], [Val_MSE: 0.5093], \n",
      "EarlyStopping counter: 1 out of 10\n",
      "Epoch 72/1000: [MSE: 0.5066], [Val_MSE: 0.5090], \n",
      "Validation loss decreased (0.509045 --> 0.509038).  Saving model ...\n",
      "Epoch 73/1000: [MSE: 0.5070], [Val_MSE: 0.5088], \n",
      "Validation loss decreased (0.509038 --> 0.508844).  Saving model ...\n",
      "Epoch 74/1000: [MSE: 0.5069], [Val_MSE: 0.5088], \n",
      "Validation loss decreased (0.508844 --> 0.508814).  Saving model ...\n",
      "Epoch 75/1000: [MSE: 0.5067], [Val_MSE: 0.5095], \n",
      "EarlyStopping counter: 1 out of 10\n",
      "Epoch 76/1000: [MSE: 0.5070], [Val_MSE: 0.5086], \n",
      "Validation loss decreased (0.508814 --> 0.508601).  Saving model ...\n",
      "Epoch 77/1000: [MSE: 0.5069], [Val_MSE: 0.5095], \n",
      "EarlyStopping counter: 1 out of 10\n",
      "Epoch 78/1000: [MSE: 0.5071], [Val_MSE: 0.5092], \n",
      "EarlyStopping counter: 2 out of 10\n",
      "Epoch 79/1000: [MSE: 0.5071], [Val_MSE: 0.5092], \n",
      "EarlyStopping counter: 3 out of 10\n",
      "Epoch 80/1000: [MSE: 0.5070], [Val_MSE: 0.5088], \n",
      "EarlyStopping counter: 4 out of 10\n",
      "Epoch 81/1000: [MSE: 0.5072], [Val_MSE: 0.5089], \n",
      "EarlyStopping counter: 5 out of 10\n",
      "Epoch 82/1000: [MSE: 0.5071], [Val_MSE: 0.5087], \n",
      "EarlyStopping counter: 6 out of 10\n",
      "Epoch 83/1000: [MSE: 0.5072], [Val_MSE: 0.5094], \n",
      "EarlyStopping counter: 7 out of 10\n",
      "Epoch 84/1000: [MSE: 0.5072], [Val_MSE: 0.5094], \n",
      "EarlyStopping counter: 8 out of 10\n",
      "Epoch 85/1000: [MSE: 0.5073], [Val_MSE: 0.5090], \n",
      "EarlyStopping counter: 9 out of 10\n",
      "Epoch 86/1000: [MSE: 0.5072], [Val_MSE: 0.5089], \n",
      "EarlyStopping counter: 10 out of 10\n",
      "Early stopping!\n"
     ]
    }
   ],
   "source": [
    "rnn, mse, val_mse = trainer.train(train_dl=train_dl,\n",
    "                                  test_dl=test_dl,\n",
    "                                  epochs=epochs)"
   ]
  },
  {
   "cell_type": "code",
   "execution_count": 17,
   "metadata": {},
   "outputs": [],
   "source": [
    "def plot_learning(mse, val_mse):\n",
    "    fig, axs = plt.subplots(figsize=(8,4))\n",
    "    axs.plot(mse, color='r', label='Training')\n",
    "    axs.plot(val_mse, color='b', label='Validation')\n",
    "    axs.set_title('MSE vs. Validation MSE')\n",
    "    plt.legend()\n",
    "    # plt.savefig('./img/mrnntraining.pdf', format='pdf', dpi=1200)\n",
    "    plt.show()"
   ]
  },
  {
   "cell_type": "code",
   "execution_count": 18,
   "metadata": {},
   "outputs": [
    {
     "data": {
      "image/png": "[encoded data removed]",
      "text/plain": [
       "<Figure size 800x400 with 1 Axes>"
      ]
     },
     "metadata": {},
     "output_type": "display_data"
    }
   ],
   "source": [
    "plot_learning(mse, val_mse)"
   ]
  },
  {
   "cell_type": "code",
   "execution_count": 19,
   "metadata": {},
   "outputs": [],
   "source": [
    "zz0 = torch.tensor(X_test[-3:-1,:], dtype=torch.float32).to(device)\n",
    "rnn.eval()\n",
    "zz = rnn(zz0)\n",
    "s_rec = vae.decoder(zz)"
   ]
  },
  {
   "cell_type": "code",
   "execution_count": 20,
   "metadata": {},
   "outputs": [
    {
     "data": {
      "image/png": "[encoded data removed]",
      "text/plain": [
       "<Figure size 800x400 with 1 Axes>"
      ]
     },
     "metadata": {},
     "output_type": "display_data"
    }
   ],
   "source": [
    "fig, axs = plt.subplots(figsize=(8,4))\n",
    "axs.plot(np.transpose(Z.cpu().detach().numpy()[-1,:]), label='True')\n",
    "axs.plot(np.transpose(s_rec[0,:].cpu().detach().numpy()), label='Prediction')\n",
    "axs.set_title('Original Signals')\n",
    "plt.legend()\n",
    "plt.show()"
   ]
  },
  {
   "cell_type": "code",
   "execution_count": 21,
   "metadata": {},
   "outputs": [
    {
     "data": {
      "image/png": "[encoded data removed]",
      "text/plain": [
       "<Figure size 800x400 with 1 Axes>"
      ]
     },
     "metadata": {},
     "output_type": "display_data"
    }
   ],
   "source": [
    "fig, axs = plt.subplots(figsize=(8,4))\n",
    "axs.plot(np.transpose(s_rec.cpu().detach().numpy()))\n",
    "axs.set_title('Next Step Signals')\n",
    "plt.show()"
   ]
  },
  {
   "cell_type": "code",
   "execution_count": null,
   "metadata": {},
   "outputs": [],
   "source": []
  }
 ],
 "metadata": {
  "kernelspec": {
   "display_name": "torch",
   "language": "python",
   "name": "python3"
  },
  "language_info": {
   "codemirror_mode": {
    "name": "ipython",
    "version": 3
   },
   "file_extension": ".py",
   "mimetype": "text/x-python",
   "name": "python",
   "nbconvert_exporter": "python",
   "pygments_lexer": "ipython3",
   "version": "3.11.3"
  },
  "orig_nbformat": 4
 },
 "nbformat": 4,
 "nbformat_minor": 2
}
