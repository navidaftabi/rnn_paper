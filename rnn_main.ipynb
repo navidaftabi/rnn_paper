{
 "cells": [
  {
   "cell_type": "code",
   "execution_count": 1,
   "metadata": {},
   "outputs": [],
   "source": [
    "import os\n",
    "import numpy as np\n",
    "from scipy.io import loadmat\n",
    "import matplotlib.pyplot as plt\n",
    "from pandas import DataFrame, concat\n",
    "\n",
    "import torch\n",
    "from torchinfo import summary\n",
    "from torch.utils.data import DataLoader\n",
    "\n",
    "from models.vae import VAE\n",
    "from models.rnn_trainer import RNNTrainer"
   ]
  },
  {
   "cell_type": "code",
   "execution_count": 2,
   "metadata": {},
   "outputs": [],
   "source": [
    "DATASET_PATH = os.path.join(os.getcwd(), 'data')\n",
    "# Path to the folder where the pretrained models are saved\n",
    "CHECKPOINT_PATH = os.path.join(os.getcwd(), 'checkpoints')"
   ]
  },
  {
   "cell_type": "code",
   "execution_count": 3,
   "metadata": {},
   "outputs": [],
   "source": [
    "seed = 23\n",
    "torch.manual_seed(seed)\n",
    "# torch.cuda.manual_seed(seed)\n",
    "# torch.cuda.manual_seed_all(seed)\n",
    "# torch.backends.cudnn.deterministic = True\n",
    "device = 'cuda' if torch.cuda.is_available() else 'cpu'"
   ]
  },
  {
   "cell_type": "code",
   "execution_count": 4,
   "metadata": {},
   "outputs": [],
   "source": [
    "class RNNDataset():\n",
    "    def __init__(self, x, y):\n",
    "        self.x = x\n",
    "        self.y = y\n",
    "    \n",
    "    def __len__(self):\n",
    "        return len(self.y)\n",
    "    \n",
    "    def __getitem__(self, idx):\n",
    "        return self.x[idx], self.y[idx]"
   ]
  },
  {
   "cell_type": "code",
   "execution_count": 5,
   "metadata": {},
   "outputs": [],
   "source": [
    "def series_to_supervised(data, n_in=1, n_out=1, dropnan=True):\n",
    "    n_vars = 1 if type(data) is list else data.shape[1]\n",
    "    df = DataFrame(data)\n",
    "    cols, names = list(), list()\n",
    "    # input sequence (t-n, ... t-1)\n",
    "    for i in range(n_in, 0, -1):\n",
    "        cols.append(df.shift(i))\n",
    "        names += [('var%d(t-%d)' % (j+1, i)) for j in range(n_vars)]\n",
    "    # forecast sequence (t, t+1, ... t+n)\n",
    "    for i in range(0, n_out):\n",
    "        cols.append(df.shift(-i))\n",
    "        if i == 0:\n",
    "            names += [('var%d(t)' % (j+1)) for j in range(n_vars)]\n",
    "        else:\n",
    "            names += [('var%d(t+%d)' % (j+1, i)) for j in range(n_vars)]\n",
    "    # put it all together\n",
    "    agg = concat(cols, axis=1)\n",
    "    agg.columns = names\n",
    "    # drop rows with NaN values\n",
    "    if dropnan:\n",
    "        agg.dropna(inplace=True)\n",
    "    return agg"
   ]
  },
  {
   "cell_type": "code",
   "execution_count": 6,
   "metadata": {},
   "outputs": [],
   "source": [
    "latent_dim = 118\n",
    "hidden_size = 100\n",
    "num_layers = 2\n",
    "batch_size = 16\n",
    "rnn_window = 10\n",
    "epochs = 1000\n",
    "lr = 1e-1\n",
    "scheduler = True\n",
    "es_patience = 10"
   ]
  },
  {
   "cell_type": "code",
   "execution_count": 7,
   "metadata": {},
   "outputs": [],
   "source": [
    "data_filename = 'Normal1.mat'\n",
    "data = loadmat(os.path.join(DATASET_PATH, data_filename))\n",
    "Z = torch.tensor(data['Z'], dtype=torch.float32).to(device)"
   ]
  },
  {
   "cell_type": "code",
   "execution_count": 8,
   "metadata": {},
   "outputs": [
    {
     "data": {
      "text/plain": [
       "<All keys matched successfully>"
      ]
     },
     "execution_count": 8,
     "metadata": {},
     "output_type": "execute_result"
    }
   ],
   "source": [
    "vae = VAE(latent_dim).to(device)\n",
    "vae.load_state_dict(torch.load(os.path.join(CHECKPOINT_PATH, 'vae_0%.pt')))"
   ]
  },
  {
   "cell_type": "code",
   "execution_count": 9,
   "metadata": {},
   "outputs": [],
   "source": [
    "vae.eval()\n",
    "Z_enc = vae.encoder(Z)\n",
    "Z_supervised = series_to_supervised(Z_enc.cpu().detach().numpy(), n_in=rnn_window)\n",
    "Z_supervised = Z_supervised.values\n",
    "X, y = Z_supervised[:,:rnn_window * latent_dim], Z_supervised[:, rnn_window * latent_dim:]\n",
    "train_size = int(len(X) * 0.8)\n",
    "X_train, X_test = X[:train_size], X[train_size:]\n",
    "y_train, y_test = y[:train_size], y[train_size:]\n",
    "training = RNNDataset(X_train, y_train)\n",
    "test = RNNDataset(X_test, y_test)\n",
    "train_dl = DataLoader(training, batch_size=batch_size, shuffle=True)\n",
    "test_dl = DataLoader(test)"
   ]
  },
  {
   "cell_type": "code",
   "execution_count": 10,
   "metadata": {},
   "outputs": [
    {
     "name": "stdout",
     "output_type": "stream",
     "text": [
      "Device:  cuda\n"
     ]
    }
   ],
   "source": [
    "trainer = RNNTrainer(input_dim=rnn_window * latent_dim, \n",
    "                     outputdims = latent_dim,\n",
    "                     hidden_dim=hidden_size,\n",
    "                     num_layers=num_layers,\n",
    "                     lr=lr,\n",
    "                     lr_scheduler=scheduler,\n",
    "                     es_patience=es_patience,\n",
    "                     checkpoint_name='rnn_0%.pt',\n",
    "                     seed=seed)"
   ]
  },
  {
   "cell_type": "code",
   "execution_count": 11,
   "metadata": {},
   "outputs": [
    {
     "data": {
      "text/plain": [
       "==========================================================================================\n",
       "Layer (type:depth-idx)                   Output Shape              Param #\n",
       "==========================================================================================\n",
       "RNN                                      [1, 118]                  --\n",
       "├─LSTM: 1-1                              [1, 50]                   543,600\n",
       "├─Linear: 1-2                            [1, 118]                  6,018\n",
       "==========================================================================================\n",
       "Total params: 549,618\n",
       "Trainable params: 549,618\n",
       "Non-trainable params: 0\n",
       "Total mult-adds (M): 27.19\n",
       "==========================================================================================\n",
       "Input size (MB): 0.00\n",
       "Forward/backward pass size (MB): 0.00\n",
       "Params size (MB): 2.20\n",
       "Estimated Total Size (MB): 2.20\n",
       "=========================================================================================="
      ]
     },
     "execution_count": 11,
     "metadata": {},
     "output_type": "execute_result"
    }
   ],
   "source": [
    "summary(trainer.rnn, (1, rnn_window * latent_dim))"
   ]
  },
  {
   "cell_type": "code",
   "execution_count": 12,
   "metadata": {},
   "outputs": [
    {
     "name": "stdout",
     "output_type": "stream",
     "text": [
      "Epoch 1/1000: [MSE: 78.8645], [Val_MSE: 8.2852], \n",
      "Validation loss decreased (inf --> 8.285184).  Saving model ...\n",
      "Epoch 2/1000: [MSE: 79.3418], [Val_MSE: 80.8214], \n",
      "EarlyStopping counter: 1 out of 10\n",
      "Epoch 3/1000: [MSE: 778.2799], [Val_MSE: 675.0683], \n",
      "EarlyStopping counter: 2 out of 10\n",
      "Epoch 4/1000: [MSE: 168.1190], [Val_MSE: 18.8299], \n",
      "EarlyStopping counter: 3 out of 10\n",
      "Epoch 5/1000: [MSE: 15.0747], [Val_MSE: 29.4663], \n",
      "EarlyStopping counter: 4 out of 10\n",
      "Epoch 6/1000: [MSE: 317.0323], [Val_MSE: 343.6106], \n",
      "EarlyStopping counter: 5 out of 10\n",
      "Epoch 7/1000: [MSE: 53.8789], [Val_MSE: 2.3136], \n",
      "Validation loss decreased (8.285184 --> 2.313621).  Saving model ...\n",
      "Epoch 8/1000: [MSE: 1.6025], [Val_MSE: 1.2506], \n",
      "Validation loss decreased (2.313621 --> 1.250622).  Saving model ...\n",
      "Epoch 9/1000: [MSE: 1.5238], [Val_MSE: 1.1550], \n",
      "Validation loss decreased (1.250622 --> 1.155036).  Saving model ...\n",
      "Epoch 10/1000: [MSE: 3.5564], [Val_MSE: 4.5832], \n",
      "EarlyStopping counter: 1 out of 10\n",
      "Epoch 11/1000: [MSE: 3.9118], [Val_MSE: 3.1246], \n",
      "EarlyStopping counter: 2 out of 10\n",
      "Epoch 12/1000: [MSE: 346.2972], [Val_MSE: 1529.0623], \n",
      "EarlyStopping counter: 3 out of 10\n",
      "Epoch 13/1000: [MSE: 4556.7420], [Val_MSE: 76.2533], \n",
      "EarlyStopping counter: 4 out of 10\n",
      "Epoch 14/1000: [MSE: 63.3855], [Val_MSE: 12.1296], \n",
      "EarlyStopping counter: 5 out of 10\n",
      "Epoch 15/1000: [MSE: 52.9803], [Val_MSE: 44.7643], \n",
      "EarlyStopping counter: 6 out of 10\n",
      "Epoch 16/1000: [MSE: 39.5448], [Val_MSE: 1.7296], \n",
      "EarlyStopping counter: 7 out of 10\n",
      "Epoch 17/1000: [MSE: 1.1634], [Val_MSE: 1.1306], \n",
      "Validation loss decreased (1.155036 --> 1.130636).  Saving model ...\n",
      "Epoch 18/1000: [MSE: 0.9974], [Val_MSE: 1.0533], \n",
      "Validation loss decreased (1.130636 --> 1.053283).  Saving model ...\n",
      "Epoch 19/1000: [MSE: 0.9282], [Val_MSE: 0.9712], \n",
      "Validation loss decreased (1.053283 --> 0.971236).  Saving model ...\n",
      "Epoch 20/1000: [MSE: 0.8787], [Val_MSE: 0.8966], \n",
      "Validation loss decreased (0.971236 --> 0.896641).  Saving model ...\n",
      "Epoch 21/1000: [MSE: 0.8219], [Val_MSE: 0.8520], \n",
      "Validation loss decreased (0.896641 --> 0.852035).  Saving model ...\n",
      "Epoch 22/1000: [MSE: 0.8040], [Val_MSE: 0.8245], \n",
      "Validation loss decreased (0.852035 --> 0.824533).  Saving model ...\n",
      "Epoch 23/1000: [MSE: 0.7889], [Val_MSE: 0.7809], \n",
      "Validation loss decreased (0.824533 --> 0.780921).  Saving model ...\n",
      "Epoch 24/1000: [MSE: 0.7482], [Val_MSE: 0.7485], \n",
      "Validation loss decreased (0.780921 --> 0.748511).  Saving model ...\n",
      "Epoch 25/1000: [MSE: 0.7214], [Val_MSE: 0.7120], \n",
      "Validation loss decreased (0.748511 --> 0.711969).  Saving model ...\n",
      "Epoch 26/1000: [MSE: 0.7041], [Val_MSE: 0.7137], \n",
      "EarlyStopping counter: 1 out of 10\n",
      "Epoch 27/1000: [MSE: 0.7079], [Val_MSE: 0.6731], \n",
      "Validation loss decreased (0.711969 --> 0.673090).  Saving model ...\n",
      "Epoch 28/1000: [MSE: 0.7072], [Val_MSE: 0.6695], \n",
      "Validation loss decreased (0.673090 --> 0.669534).  Saving model ...\n",
      "Epoch 29/1000: [MSE: 0.7042], [Val_MSE: 0.6437], \n",
      "Validation loss decreased (0.669534 --> 0.643680).  Saving model ...\n",
      "Epoch 30/1000: [MSE: 0.7102], [Val_MSE: 0.6361], \n",
      "Validation loss decreased (0.643680 --> 0.636113).  Saving model ...\n",
      "Epoch 31/1000: [MSE: 0.7003], [Val_MSE: 0.6499], \n",
      "EarlyStopping counter: 1 out of 10\n",
      "Epoch 32/1000: [MSE: 0.6923], [Val_MSE: 0.6236], \n",
      "Validation loss decreased (0.636113 --> 0.623568).  Saving model ...\n",
      "Epoch 33/1000: [MSE: 0.7188], [Val_MSE: 0.6507], \n",
      "EarlyStopping counter: 1 out of 10\n",
      "Epoch 34/1000: [MSE: 0.8008], [Val_MSE: 0.7129], \n",
      "EarlyStopping counter: 2 out of 10\n",
      "Epoch 35/1000: [MSE: 0.9380], [Val_MSE: 0.7020], \n",
      "EarlyStopping counter: 3 out of 10\n",
      "Epoch 36/1000: [MSE: 0.8871], [Val_MSE: 0.8538], \n",
      "EarlyStopping counter: 4 out of 10\n",
      "Epoch 37/1000: [MSE: 0.9166], [Val_MSE: 0.7843], \n",
      "EarlyStopping counter: 5 out of 10\n",
      "Epoch 38/1000: [MSE: 1.1136], [Val_MSE: 0.7902], \n",
      "EarlyStopping counter: 6 out of 10\n",
      "Epoch 39/1000: [MSE: 2.0237], [Val_MSE: 1.6973], \n",
      "EarlyStopping counter: 7 out of 10\n",
      "Epoch 40/1000: [MSE: 0.6785], [Val_MSE: 0.5488], \n",
      "Validation loss decreased (0.623568 --> 0.548807).  Saving model ...\n",
      "Epoch 41/1000: [MSE: 0.5663], [Val_MSE: 0.5497], \n",
      "EarlyStopping counter: 1 out of 10\n",
      "Epoch 42/1000: [MSE: 0.5714], [Val_MSE: 0.5560], \n",
      "EarlyStopping counter: 2 out of 10\n",
      "Epoch 43/1000: [MSE: 0.5766], [Val_MSE: 0.5621], \n",
      "EarlyStopping counter: 3 out of 10\n",
      "Epoch 44/1000: [MSE: 0.5831], [Val_MSE: 0.5488], \n",
      "EarlyStopping counter: 4 out of 10\n",
      "Epoch 45/1000: [MSE: 0.5906], [Val_MSE: 0.5839], \n",
      "EarlyStopping counter: 5 out of 10\n",
      "Epoch 46/1000: [MSE: 0.5989], [Val_MSE: 0.5737], \n",
      "EarlyStopping counter: 6 out of 10\n",
      "Epoch 47/1000: [MSE: 0.6038], [Val_MSE: 0.5733], \n",
      "EarlyStopping counter: 7 out of 10\n",
      "Epoch 48/1000: [MSE: 0.5328], [Val_MSE: 0.5209], \n",
      "Validation loss decreased (0.548807 --> 0.520905).  Saving model ...\n",
      "Epoch 49/1000: [MSE: 0.5271], [Val_MSE: 0.5211], \n",
      "EarlyStopping counter: 1 out of 10\n",
      "Epoch 50/1000: [MSE: 0.5277], [Val_MSE: 0.5211], \n",
      "EarlyStopping counter: 2 out of 10\n",
      "Epoch 51/1000: [MSE: 0.5294], [Val_MSE: 0.5244], \n",
      "EarlyStopping counter: 3 out of 10\n",
      "Epoch 52/1000: [MSE: 0.5307], [Val_MSE: 0.5242], \n",
      "EarlyStopping counter: 4 out of 10\n",
      "Epoch 53/1000: [MSE: 0.5318], [Val_MSE: 0.5217], \n",
      "EarlyStopping counter: 5 out of 10\n",
      "Epoch 54/1000: [MSE: 0.5350], [Val_MSE: 0.5274], \n",
      "EarlyStopping counter: 6 out of 10\n",
      "Epoch 55/1000: [MSE: 0.5388], [Val_MSE: 0.5261], \n",
      "EarlyStopping counter: 7 out of 10\n",
      "Epoch 56/1000: [MSE: 0.5182], [Val_MSE: 0.5128], \n",
      "Validation loss decreased (0.520905 --> 0.512834).  Saving model ...\n",
      "Epoch 57/1000: [MSE: 0.5153], [Val_MSE: 0.5129], \n",
      "EarlyStopping counter: 1 out of 10\n",
      "Epoch 58/1000: [MSE: 0.5156], [Val_MSE: 0.5135], \n",
      "EarlyStopping counter: 2 out of 10\n",
      "Epoch 59/1000: [MSE: 0.5153], [Val_MSE: 0.5131], \n",
      "EarlyStopping counter: 3 out of 10\n",
      "Epoch 60/1000: [MSE: 0.5157], [Val_MSE: 0.5135], \n",
      "EarlyStopping counter: 4 out of 10\n",
      "Epoch 61/1000: [MSE: 0.5163], [Val_MSE: 0.5133], \n",
      "EarlyStopping counter: 5 out of 10\n",
      "Epoch 62/1000: [MSE: 0.5168], [Val_MSE: 0.5131], \n",
      "EarlyStopping counter: 6 out of 10\n",
      "Epoch 63/1000: [MSE: 0.5174], [Val_MSE: 0.5146], \n",
      "EarlyStopping counter: 7 out of 10\n",
      "Epoch 64/1000: [MSE: 0.5128], [Val_MSE: 0.5108], \n",
      "Validation loss decreased (0.512834 --> 0.510790).  Saving model ...\n",
      "Epoch 65/1000: [MSE: 0.5117], [Val_MSE: 0.5107], \n",
      "Validation loss decreased (0.510790 --> 0.510690).  Saving model ...\n",
      "Epoch 66/1000: [MSE: 0.5119], [Val_MSE: 0.5105], \n",
      "Validation loss decreased (0.510690 --> 0.510456).  Saving model ...\n",
      "Epoch 67/1000: [MSE: 0.5119], [Val_MSE: 0.5103], \n",
      "Validation loss decreased (0.510456 --> 0.510264).  Saving model ...\n",
      "Epoch 68/1000: [MSE: 0.5117], [Val_MSE: 0.5103], \n",
      "EarlyStopping counter: 1 out of 10\n",
      "Epoch 69/1000: [MSE: 0.5122], [Val_MSE: 0.5103], \n",
      "EarlyStopping counter: 2 out of 10\n",
      "Epoch 70/1000: [MSE: 0.5124], [Val_MSE: 0.5103], \n",
      "EarlyStopping counter: 3 out of 10\n",
      "Epoch 71/1000: [MSE: 0.5123], [Val_MSE: 0.5108], \n",
      "EarlyStopping counter: 4 out of 10\n",
      "Epoch 72/1000: [MSE: 0.5124], [Val_MSE: 0.5114], \n",
      "EarlyStopping counter: 5 out of 10\n",
      "Epoch 73/1000: [MSE: 0.5128], [Val_MSE: 0.5107], \n",
      "EarlyStopping counter: 6 out of 10\n",
      "Epoch 74/1000: [MSE: 0.5128], [Val_MSE: 0.5099], \n",
      "Validation loss decreased (0.510264 --> 0.509938).  Saving model ...\n",
      "Epoch 75/1000: [MSE: 0.5128], [Val_MSE: 0.5105], \n",
      "EarlyStopping counter: 1 out of 10\n",
      "Epoch 76/1000: [MSE: 0.5129], [Val_MSE: 0.5109], \n",
      "EarlyStopping counter: 2 out of 10\n",
      "Epoch 77/1000: [MSE: 0.5129], [Val_MSE: 0.5110], \n",
      "EarlyStopping counter: 3 out of 10\n",
      "Epoch 78/1000: [MSE: 0.5132], [Val_MSE: 0.5112], \n",
      "EarlyStopping counter: 4 out of 10\n",
      "Epoch 79/1000: [MSE: 0.5133], [Val_MSE: 0.5112], \n",
      "EarlyStopping counter: 5 out of 10\n",
      "Epoch 80/1000: [MSE: 0.5134], [Val_MSE: 0.5112], \n",
      "EarlyStopping counter: 6 out of 10\n",
      "Epoch 81/1000: [MSE: 0.5131], [Val_MSE: 0.5115], \n",
      "EarlyStopping counter: 7 out of 10\n",
      "Epoch 82/1000: [MSE: 0.5132], [Val_MSE: 0.5120], \n",
      "EarlyStopping counter: 8 out of 10\n",
      "Epoch 83/1000: [MSE: 0.5135], [Val_MSE: 0.5113], \n",
      "EarlyStopping counter: 9 out of 10\n",
      "Epoch 84/1000: [MSE: 0.5133], [Val_MSE: 0.5118], \n",
      "EarlyStopping counter: 10 out of 10\n",
      "Early stopping!\n"
     ]
    }
   ],
   "source": [
    "rnn, mse, val_mse = trainer.train(train_dl=train_dl,\n",
    "                                  test_dl=test_dl,\n",
    "                                  epochs=epochs)"
   ]
  },
  {
   "cell_type": "code",
   "execution_count": 15,
   "metadata": {},
   "outputs": [],
   "source": [
    "def plot_learning(mse, val_mse):\n",
    "    fig, axs = plt.subplots(figsize=(6,4))\n",
    "    axs.plot(mse, color='r', label='Training')\n",
    "    axs.plot(val_mse, color='b', label='Validation')\n",
    "    axs.set_title('MSE vs. Validation MSE')\n",
    "    plt.legend()\n",
    "    # plt.savefig('./img/mrnntraining.pdf', format='pdf', dpi=1200)\n",
    "    plt.show()"
   ]
  },
  {
   "cell_type": "code",
   "execution_count": 16,
   "metadata": {},
   "outputs": [
    {
     "data": {
      "image/png": "[encoded data removed]",
      "text/plain": [
       "<Figure size 600x400 with 1 Axes>"
      ]
     },
     "metadata": {},
     "output_type": "display_data"
    }
   ],
   "source": [
    "plot_learning(mse, val_mse)"
   ]
  },
  {
   "cell_type": "code",
   "execution_count": 17,
   "metadata": {},
   "outputs": [],
   "source": [
    "zz0 = torch.tensor(X_test[-3:-1,:], dtype=torch.float32).to(device)\n",
    "rnn.eval()\n",
    "zz = rnn(zz0)\n",
    "s_rec = vae.decoder(zz)"
   ]
  },
  {
   "cell_type": "code",
   "execution_count": 22,
   "metadata": {},
   "outputs": [
    {
     "data": {
      "image/png": "[encoded data removed]",
      "text/plain": [
       "<Figure size 600x400 with 1 Axes>"
      ]
     },
     "metadata": {},
     "output_type": "display_data"
    }
   ],
   "source": [
    "fig, axs = plt.subplots(figsize=(6,4))\n",
    "axs.plot(np.transpose(Z.cpu().detach().numpy()[-1,:]), label='True')\n",
    "axs.plot(np.transpose(s_rec[1,:].cpu().detach().numpy()), label='Prediction')\n",
    "axs.set_title('Original Signals')\n",
    "plt.legend()\n",
    "plt.show()"
   ]
  },
  {
   "cell_type": "code",
   "execution_count": 23,
   "metadata": {},
   "outputs": [
    {
     "data": {
      "image/png": "[encoded data removed]",
      "text/plain": [
       "<Figure size 600x400 with 1 Axes>"
      ]
     },
     "metadata": {},
     "output_type": "display_data"
    }
   ],
   "source": [
    "fig, axs = plt.subplots(figsize=(6,4))\n",
    "axs.plot(np.transpose(s_rec.cpu().detach().numpy()))\n",
    "axs.set_title('Next Step Signals')\n",
    "plt.show()"
   ]
  },
  {
   "cell_type": "code",
   "execution_count": null,
   "metadata": {},
   "outputs": [],
   "source": []
  }
 ],
 "metadata": {
  "kernelspec": {
   "display_name": "torch",
   "language": "python",
   "name": "python3"
  },
  "language_info": {
   "codemirror_mode": {
    "name": "ipython",
    "version": 3
   },
   "file_extension": ".py",
   "mimetype": "text/x-python",
   "name": "python",
   "nbconvert_exporter": "python",
   "pygments_lexer": "ipython3",
   "version": "3.10.11"
  },
  "orig_nbformat": 4
 },
 "nbformat": 4,
 "nbformat_minor": 2
}
